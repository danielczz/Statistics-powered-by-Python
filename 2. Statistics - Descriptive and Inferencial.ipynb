{
 "cells": [
  {
   "cell_type": "markdown",
   "metadata": {},
   "source": [
    "# Descriptive and Inferencial Statistics: \n",
    "- **Descriptive statistics:** Description of the info that we are using.\n",
    "    \n",
    "- **Inferencial statistics:** Infere the data that is unknown to us, for example, height of man in population got from a sample.\n",
    "\n",
    "<img src=\"images/static/descriptive-statistics-and-inferential-statistics.jpg\",width=350, height=350>"
   ]
  },
  {
   "cell_type": "code",
   "execution_count": 1,
   "metadata": {},
   "outputs": [],
   "source": [
    "# Import dependencies\n",
    "import numpy as np\n",
    "import pandas as pd\n",
    "import matplotlib.pyplot as plt\n",
    "%matplotlib inline"
   ]
  },
  {
   "cell_type": "code",
   "execution_count": 2,
   "metadata": {},
   "outputs": [],
   "source": [
    "# Creating a Pandas DataFrame to analyze \n",
    "df = pd.DataFrame(dict(id=range(60), age = np.random.randint(18,31, size = 60)))"
   ]
  },
  {
   "cell_type": "code",
   "execution_count": 3,
   "metadata": {},
   "outputs": [
    {
     "data": {
      "text/html": [
       "<div>\n",
       "<style scoped>\n",
       "    .dataframe tbody tr th:only-of-type {\n",
       "        vertical-align: middle;\n",
       "    }\n",
       "\n",
       "    .dataframe tbody tr th {\n",
       "        vertical-align: top;\n",
       "    }\n",
       "\n",
       "    .dataframe thead th {\n",
       "        text-align: right;\n",
       "    }\n",
       "</style>\n",
       "<table border=\"1\" class=\"dataframe\">\n",
       "  <thead>\n",
       "    <tr style=\"text-align: right;\">\n",
       "      <th></th>\n",
       "      <th>age</th>\n",
       "      <th>id</th>\n",
       "    </tr>\n",
       "  </thead>\n",
       "  <tbody>\n",
       "    <tr>\n",
       "      <th>0</th>\n",
       "      <td>30</td>\n",
       "      <td>0</td>\n",
       "    </tr>\n",
       "    <tr>\n",
       "      <th>1</th>\n",
       "      <td>23</td>\n",
       "      <td>1</td>\n",
       "    </tr>\n",
       "    <tr>\n",
       "      <th>2</th>\n",
       "      <td>30</td>\n",
       "      <td>2</td>\n",
       "    </tr>\n",
       "    <tr>\n",
       "      <th>3</th>\n",
       "      <td>30</td>\n",
       "      <td>3</td>\n",
       "    </tr>\n",
       "    <tr>\n",
       "      <th>4</th>\n",
       "      <td>20</td>\n",
       "      <td>4</td>\n",
       "    </tr>\n",
       "  </tbody>\n",
       "</table>\n",
       "</div>"
      ],
      "text/plain": [
       "   age  id\n",
       "0   30   0\n",
       "1   23   1\n",
       "2   30   2\n",
       "3   30   3\n",
       "4   20   4"
      ]
     },
     "execution_count": 3,
     "metadata": {},
     "output_type": "execute_result"
    }
   ],
   "source": [
    "# Preview DataFrame \n",
    "df.head()"
   ]
  },
  {
   "cell_type": "code",
   "execution_count": 4,
   "metadata": {},
   "outputs": [
    {
     "name": "stdout",
     "output_type": "stream",
     "text": [
      "The MEAN for the age column in provided data is: 23.733333333333334\n",
      "The MEDIAN for the age column in provided data is: 23.0\n",
      "The RANGE for the age column in provided data is: 12\n",
      "The VARIANCE for the age column in provided data is: 15.96222222222222\n",
      "The STD DEV for the age column in provided data is: 3.9952749870593665\n",
      "The IQR for the age column in provided data is: 7.0\n"
     ]
    }
   ],
   "source": [
    "# Calculating indicators for provided data\n",
    "print(f'The MEAN for the age column in provided data is: {np.mean(df[\"age\"])}')\n",
    "print(f'The MEDIAN for the age column in provided data is: {np.median(df[\"age\"])}')\n",
    "# print(f'The MODE for the age column in provided data is: {mode(df[\"age\"])}')\n",
    "print(f'The RANGE for the age column in provided data is: {np.max(df[\"age\"]) - np.min(df[\"age\"]) }')\n",
    "\n",
    "\n",
    "# Q1\n",
    "    # Q1\n",
    "    # first quartile\n",
    "    # lower quartile\n",
    "    # 25th percentile\n",
    "    # splits off the lowest 25% of data from the highest 75%\n",
    "Q1 = np.percentile(df[\"age\"], 25)\n",
    "\n",
    "# Q2\n",
    "    # second quartile\n",
    "    # median\n",
    "    # 50th percentile\n",
    "    # cuts data set in half\n",
    "Q2 = np.percentile(df[\"age\"], 50)\n",
    "\n",
    "# Q3\n",
    "    # third quartile\n",
    "    # upper quartile\n",
    "    # 75th percentile\n",
    "    # splits off the highest 25% of data from the lowest 75%\n",
    "Q3 = np.percentile(df[\"age\"], 75)\n",
    "\n",
    "print(f'The VARIANCE for the age column in provided data is: {np.var(df[\"age\"])}')\n",
    "print(f'The STD DEV for the age column in provided data is: {np.std(df[\"age\"])}')\n",
    "print(f'The IQR for the age column in provided data is: {Q3-Q1}')"
   ]
  },
  {
   "cell_type": "code",
   "execution_count": 5,
   "metadata": {},
   "outputs": [
    {
     "data": {
      "image/png": "[encoded data removed]",
      "text/plain": [
       "<matplotlib.figure.Figure at 0x107cbfcc0>"
      ]
     },
     "metadata": {},
     "output_type": "display_data"
    }
   ],
   "source": [
    "_= df.boxplot(column = \"age\", return_type = 'axes')"
   ]
  },
  {
   "cell_type": "markdown",
   "metadata": {},
   "source": [
    "As a reference: \n",
    "\n",
    "<img src=\"images/static/boxplot-labels.png\",width=350, align = 'center'>"
   ]
  },
  {
   "cell_type": "markdown",
   "metadata": {},
   "source": [
    "##  Skewness:\n",
    "In probability theory and statistics, skewness is a measure of the asymmetry of the probability distribution of a real-valued random variable about its mean. The skewness value can be positive or negative, or undefined.\n",
    "    \n",
    "## Kurtosis:\n",
    "La curtosis de una variable estadística/aleatoria es una característica de forma de su distribución de frecuencias/probabilidad.\n",
    "\n",
    "Según su concepción clásica, una curtosis grande implica una mayor concentración de valores de la variable tanto muy cerca de la media de la distribución (pico) como muy lejos de ella (colas), al tiempo que existe una relativamente menor frecuencia de valores intermedios. Esto explica una forma de la distribución de frecuencias/probabilidad con colas más gruesas, con un centro más apuntado y una menor proporción de valores intermedios entre el pico y colas.\n",
    "\n",
    "<img src=\"images/static/Negative_and_positive_skew_diagrams.png\", width=350>\n",
    "<img src=\"images/static/KBQLN.jpg\", width=350>"
   ]
  },
  {
   "cell_type": "code",
   "execution_count": 6,
   "metadata": {
    "scrolled": true
   },
   "outputs": [
    {
     "name": "stdout",
     "output_type": "stream",
     "text": [
      "The SKEWENESS for the age column in provided data is: 0.10008495207760866\n",
      "The KURTOIS for the age column in provided data is: -1.370912791924127\n"
     ]
    }
   ],
   "source": [
    "swekeness = df[\"age\"].skew()\n",
    "kurtosis = df[\"age\"].kurt()\n",
    "\n",
    "print(f'The SKEWENESS for the age column in provided data is: {swekeness}')\n",
    "print(f'The KURTOIS for the age column in provided data is: {kurtosis}')"
   ]
  },
  {
   "cell_type": "markdown",
   "metadata": {},
   "source": [
    "## Inferencial Statistics:\n",
    "\n",
    "- Infers **properties of population**, for example, by testing hypothesis and deriving estimates.\n",
    "    \n",
    "- Infere the data that is unknown to us, for example, height of man in population got from a sample."
   ]
  },
  {
   "cell_type": "code",
   "execution_count": 7,
   "metadata": {},
   "outputs": [],
   "source": [
    "# Lets take random subsets of samples from population data\n",
    "np.random.seed(10)\n",
    "\n",
    "# Lets create an additional population with 1000 data points\n",
    "population = np.random.randint(10,20,1000)\n",
    "\n",
    "# Lets create an empty array of means\n",
    "estimates = []\n",
    "\n",
    "for i in range(200):\n",
    "    samples = np.random.choice(population, 100)\n",
    "    estimates.append(samples.mean())"
   ]
  },
  {
   "cell_type": "code",
   "execution_count": 8,
   "metadata": {},
   "outputs": [
    {
     "name": "stdout",
     "output_type": "stream",
     "text": [
      "14.565\n"
     ]
    }
   ],
   "source": [
    "# Calculating the mean\n",
    "print(np.mean(population))"
   ]
  },
  {
   "cell_type": "code",
   "execution_count": 9,
   "metadata": {},
   "outputs": [
    {
     "data": {
      "image/png": "[encoded data removed]",
      "text/plain": [
       "<matplotlib.figure.Figure at 0x10d756630>"
      ]
     },
     "metadata": {},
     "output_type": "display_data"
    }
   ],
   "source": [
    "# EDA for estimates\n",
    "_= pd.DataFrame(estimates).plot(kind='density')"
   ]
  },
  {
   "cell_type": "markdown",
   "metadata": {},
   "source": [
    "## Confidence intervals:\n",
    "- Par o varios pares de números entre los cuales se estima que estará cierto valor desconocido con una determinada probabilidad de acierto. Formalmente, estos números determinan un intervalo, que se calcula a partir de datos de una muestra, y el valor desconocido es un parámetro poblacional. La probabilidad de éxito en la estimación se representa con 1 - α y se denomina nivel de confianza. En estas circunstancias, α es el llamado error aleatorio o nivel de significación, esto es, una medida de las posibilidades de fallar en la estimación mediante tal intervalo.\n",
    "   \n",
    "- It gives us an **upper and lower limit** where 95% of our data will be available.\n",
    "\n",
    "<img src=\"images/static/Margarinefilling.png\",width=350>"
   ]
  },
  {
   "cell_type": "markdown",
   "metadata": {},
   "source": [
    "## Margin of error:\n",
    "The margin of error is a statistic expressing the **amount of random sampling error in a survey's results.** The larger the margin of error, the less confidence one should have that the poll's reported results are close to the \"true\" figures; that is, the figures for the whole population. Margin of error is positive whenever a population is incompletely sampled and the outcome measure has positive variance (that is, it varies).\n",
    "\n",
    "<img src=\"images/static/Marginoferror.PNG\", width=350>"
   ]
  },
  {
   "cell_type": "code",
   "execution_count": 10,
   "metadata": {},
   "outputs": [],
   "source": [
    "# Import scipy stats in order to calculate critical z and t values \n",
    "import scipy.stats as stats\n",
    "\n",
    "# Calculating z and t critical value\n",
    "z_critical = stats.norm.ppf(q = 0.975)\n",
    "t_critical = z_critical = stats.t.ppf(q = 0.975, df = 24)"
   ]
  },
  {
   "cell_type": "code",
   "execution_count": 11,
   "metadata": {},
   "outputs": [],
   "source": [
    "# Calculating margin of errors based on critical values\n",
    "margin_of_error = z_critical * (np.std(estimates)/np.sqrt(len(estimates)))"
   ]
  },
  {
   "cell_type": "code",
   "execution_count": 12,
   "metadata": {},
   "outputs": [],
   "source": [
    "# Calculating confidence intervals\n",
    "lower_bound = np.mean(estimates) - margin_of_error\n",
    "upper_bound = np.mean(estimates) + margin_of_error"
   ]
  },
  {
   "cell_type": "code",
   "execution_count": 13,
   "metadata": {},
   "outputs": [
    {
     "name": "stdout",
     "output_type": "stream",
     "text": [
      "LOWER bound for confidence interval: 14.458326002884847\n",
      "UPPER bound for confidence interval: 14.54137399711515\n"
     ]
    }
   ],
   "source": [
    "# Preview results\n",
    "print(f'LOWER bound for confidence interval: {lower_bound}')\n",
    "print(f'UPPER bound for confidence interval: {upper_bound}')"
   ]
  }
 ],
 "metadata": {
  "kernelspec": {
   "display_name": "Python 3",
   "language": "python",
   "name": "python3"
  },
  "language_info": {
   "codemirror_mode": {
    "name": "ipython",
    "version": 3
   },
   "file_extension": ".py",
   "mimetype": "text/x-python",
   "name": "python",
   "nbconvert_exporter": "python",
   "pygments_lexer": "ipython3",
   "version": "3.6.8"
  },
  "toc": {
   "base_numbering": 1,
   "nav_menu": {},
   "number_sections": true,
   "sideBar": true,
   "skip_h1_title": false,
   "title_cell": "Table of Contents",
   "title_sidebar": "Contents",
   "toc_cell": false,
   "toc_position": {
    "height": "calc(100% - 180px)",
    "left": "10px",
    "top": "150px",
    "width": "333px"
   },
   "toc_section_display": true,
   "toc_window_display": true
  }
 },
 "nbformat": 4,
 "nbformat_minor": 2
}
