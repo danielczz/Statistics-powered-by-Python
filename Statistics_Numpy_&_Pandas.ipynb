{
 "cells": [
  {
   "cell_type": "markdown",
   "metadata": {},
   "source": [
    "# Statistics with Python: Central tendency"
   ]
  },
  {
   "cell_type": "code",
   "execution_count": 72,
   "metadata": {},
   "outputs": [],
   "source": [
    "# Import dependencies\n",
    "import numpy as np\n",
    "import pandas as pd\n",
    "import matplotlib.pyplot as plt\n",
    "%matplotlib inline"
   ]
  },
  {
   "cell_type": "code",
   "execution_count": 73,
   "metadata": {},
   "outputs": [
    {
     "name": "stdout",
     "output_type": "stream",
     "text": [
      "[9 9 7 7 8 8 7 9 7 9 7 9 8 9 9 9 8 9 9 7]\n"
     ]
    }
   ],
   "source": [
    "# Create a random number list of integer values \n",
    "m = np.random.randint(7, 10, 20)\n",
    "\n",
    "print(m)"
   ]
  },
  {
   "cell_type": "markdown",
   "metadata": {},
   "source": [
    "## Mean: \n",
    "    For a data set, the arithmetic mean, also called the mathematical expectation or average, is the central value of a discrete set of numbers: specifically, the sum of the values divided by the number of values. "
   ]
  },
  {
   "cell_type": "code",
   "execution_count": 19,
   "metadata": {
    "scrolled": false
   },
   "outputs": [
    {
     "data": {
      "text/html": [
       "<center>\n",
       "<img src=\"https://upload.wikimedia.org/wikipedia/commons/thumb/d/de/Comparison_mean_median_mode.svg/1024px-Comparison_mean_median_mode.svg.png\", width=350>\n",
       "</center>"
      ],
      "text/plain": [
       "<IPython.core.display.HTML object>"
      ]
     },
     "metadata": {},
     "output_type": "display_data"
    }
   ],
   "source": [
    "%%html inline\n",
    "<center>\n",
    "<img src=\"https://upload.wikimedia.org/wikipedia/commons/thumb/d/de/Comparison_mean_median_mode.svg/1024px-Comparison_mean_median_mode.svg.png\", width=350>\n",
    "</center>"
   ]
  },
  {
   "cell_type": "code",
   "execution_count": 20,
   "metadata": {
    "scrolled": true
   },
   "outputs": [
    {
     "name": "stdout",
     "output_type": "stream",
     "text": [
      "7.9\n",
      "The MEAN for the provided ORIGINAL DATA is: 7.9\n"
     ]
    }
   ],
   "source": [
    "# Calculate the mean \n",
    "print(np.mean(m))\n",
    "print(f'The MEAN for the provided ORIGINAL DATA is: {np.mean(m)}')"
   ]
  },
  {
   "cell_type": "markdown",
   "metadata": {},
   "source": [
    "## Median: \n",
    "    The median is the value separating the higher half from the lower half of a data sample (a population or a probability distribution). For a data set, it may be thought of as the \"middle\" value. "
   ]
  },
  {
   "cell_type": "code",
   "execution_count": 21,
   "metadata": {
    "scrolled": false
   },
   "outputs": [
    {
     "data": {
      "text/html": [
       "<center>\n",
       "<img src=\"https://upload.wikimedia.org/wikipedia/commons/thumb/c/cf/Finding_the_median.png/440px-Finding_the_median.png\", width=350>\n",
       "</center>"
      ],
      "text/plain": [
       "<IPython.core.display.HTML object>"
      ]
     },
     "metadata": {},
     "output_type": "display_data"
    }
   ],
   "source": [
    "%%html inline\n",
    "<center>\n",
    "<img src=\"https://upload.wikimedia.org/wikipedia/commons/thumb/c/cf/Finding_the_median.png/440px-Finding_the_median.png\", width=350>\n",
    "</center>"
   ]
  },
  {
   "cell_type": "code",
   "execution_count": 22,
   "metadata": {},
   "outputs": [
    {
     "name": "stdout",
     "output_type": "stream",
     "text": [
      "8.0\n",
      "The MEDIAN for the provided ORIGINAL DATA is: 8.0\n"
     ]
    }
   ],
   "source": [
    "print(np.median(m))\n",
    "print(f'The MEDIAN for the provided ORIGINAL DATA is: {np.median(m)}')"
   ]
  },
  {
   "cell_type": "markdown",
   "metadata": {},
   "source": [
    "## Mode: \n",
    "    The mode of a set of data is the value that appears most often."
   ]
  },
  {
   "cell_type": "code",
   "execution_count": 23,
   "metadata": {
    "scrolled": true
   },
   "outputs": [
    {
     "data": {
      "text/html": [
       "<center>\n",
       "<img src=\"https://upload.wikimedia.org/wikipedia/commons/thumb/3/33/Visualisation_mode_median_mean.svg/240px-Visualisation_mode_median_mean.svg.png\", width=180>\n",
       "</center>"
      ],
      "text/plain": [
       "<IPython.core.display.HTML object>"
      ]
     },
     "metadata": {},
     "output_type": "display_data"
    }
   ],
   "source": [
    "%%html inline\n",
    "<center>\n",
    "<img src=\"https://upload.wikimedia.org/wikipedia/commons/thumb/3/33/Visualisation_mode_median_mean.svg/240px-Visualisation_mode_median_mean.svg.png\", width=180>\n",
    "</center>"
   ]
  },
  {
   "cell_type": "code",
   "execution_count": 24,
   "metadata": {},
   "outputs": [],
   "source": [
    "# Import additional library for mode \n",
    "from statistics import mode"
   ]
  },
  {
   "cell_type": "code",
   "execution_count": 25,
   "metadata": {},
   "outputs": [
    {
     "name": "stdout",
     "output_type": "stream",
     "text": [
      "7\n",
      "The MODE for the provided ORIGINAL DATA is: 7\n"
     ]
    }
   ],
   "source": [
    "print(mode(m))\n",
    "print(f'The MODE for the provided ORIGINAL DATA is: {mode(m)}')"
   ]
  },
  {
   "cell_type": "markdown",
   "metadata": {},
   "source": [
    "## Population: \n",
    "    Total observation of the data."
   ]
  },
  {
   "cell_type": "markdown",
   "metadata": {},
   "source": [
    "## Sample: \n",
    "    Subset population that describes population that we will be able to draw conclusions.\n"
   ]
  },
  {
   "cell_type": "code",
   "execution_count": 26,
   "metadata": {
    "scrolled": true
   },
   "outputs": [
    {
     "data": {
      "text/html": [
       "<center>\n",
       "<img src=\"https://h5p.org/sites/default/files/h5p/content/319031/images/file-5bac71c2ef4fc.png\", width=250>\n",
       "</center>"
      ],
      "text/plain": [
       "<IPython.core.display.HTML object>"
      ]
     },
     "metadata": {},
     "output_type": "display_data"
    }
   ],
   "source": [
    "%%html inline\n",
    "<center>\n",
    "<img src=\"https://h5p.org/sites/default/files/h5p/content/319031/images/file-5bac71c2ef4fc.png\", width=250>\n",
    "</center>"
   ]
  },
  {
   "cell_type": "code",
   "execution_count": 27,
   "metadata": {},
   "outputs": [],
   "source": [
    "# Defining data for population \n",
    "population = np.random.randint(10,20,100)"
   ]
  },
  {
   "cell_type": "code",
   "execution_count": 28,
   "metadata": {},
   "outputs": [
    {
     "name": "stdout",
     "output_type": "stream",
     "text": [
      "14.57\n",
      "15.0\n",
      "15\n",
      "The MEAN for the provided SAMPLE DATA is: 14.57\n",
      "The MEDIAN for the provided SAMPLE DATA is: 15.0\n",
      "The MODE for the provided SAMPLE DATA is: 15\n"
     ]
    }
   ],
   "source": [
    "# Calculate and print mean, median and mode for the whole population\n",
    "print(np.mean(population))\n",
    "print(np.median(population))\n",
    "print(mode(population))\n",
    "\n",
    "print(f'The MEAN for the provided SAMPLE DATA is: {np.mean(population)}')\n",
    "print(f'The MEDIAN for the provided SAMPLE DATA is: {np.median(population)}')\n",
    "print(f'The MODE for the provided SAMPLE DATA is: {mode(population)}')"
   ]
  },
  {
   "cell_type": "code",
   "execution_count": 29,
   "metadata": {},
   "outputs": [],
   "source": [
    "# Creating a subset of population data\n",
    "sample = np.random.choice(population, 30)"
   ]
  },
  {
   "cell_type": "code",
   "execution_count": 30,
   "metadata": {},
   "outputs": [
    {
     "name": "stdout",
     "output_type": "stream",
     "text": [
      "15.6\n",
      "16.0\n",
      "18\n",
      "The MEAN for the provided SAMPLE DATA is: 15.6\n",
      "The MEDIAN for the provided SAMPLE DATA is: 16.0\n",
      "The MODE for the provided SAMPLE DATA is: 18\n"
     ]
    }
   ],
   "source": [
    "# Calculate and print mean, median and mode for the subset of data\n",
    "print(np.mean(sample))\n",
    "print(np.median(sample))\n",
    "print(mode(sample))\n",
    "\n",
    "print(f'The MEAN for the provided SAMPLE DATA is: {np.mean(sample)}')\n",
    "print(f'The MEDIAN for the provided SAMPLE DATA is: {np.median(sample)}')\n",
    "print(f'The MODE for the provided SAMPLE DATA is: {mode(sample)}')"
   ]
  },
  {
   "cell_type": "code",
   "execution_count": 31,
   "metadata": {},
   "outputs": [],
   "source": [
    "# Creating several subset of data (random samples)\n",
    "sample_1 = np.random.choice(population, 20)\n",
    "sample_2 = np.random.choice(population, 20)\n",
    "sample_3 = np.random.choice(population, 20)\n",
    "sample_4 = np.random.choice(population, 20)\n",
    "sample_5 = np.random.choice(population, 20)\n",
    "sample_6 = np.random.choice(population, 20)\n",
    "sample_7 = np.random.choice(population, 20)\n",
    "sample_8 = np.random.choice(population, 20)\n",
    "\n",
    "# Getting all samples in a dictionary\n",
    "all_samples = [sample, sample_1, sample_2, sample_3, sample_4, sample_5, sample_6, sample_7, sample_8]\n",
    "\n",
    "# Creating an empty array to store mean values from the sample\n",
    "sample_mean = []"
   ]
  },
  {
   "cell_type": "code",
   "execution_count": 32,
   "metadata": {},
   "outputs": [
    {
     "name": "stdout",
     "output_type": "stream",
     "text": [
      "15.6\n",
      "13.5\n",
      "14.2\n",
      "16.1\n",
      "14.5\n",
      "15.65\n",
      "14.5\n",
      "14.7\n",
      "14.55\n"
     ]
    }
   ],
   "source": [
    "# For loop to iterate and get all mean values \n",
    "for i in all_samples:\n",
    "    sample_mean.append(np.mean(i))\n",
    "    print(np.mean(i))"
   ]
  },
  {
   "cell_type": "code",
   "execution_count": 33,
   "metadata": {},
   "outputs": [
    {
     "name": "stdout",
     "output_type": "stream",
     "text": [
      "14.811111111111112\n",
      "The MEAN for the provided SAMPLE DATA is: 14.811111111111112\n"
     ]
    }
   ],
   "source": [
    "# Find the mean of all the samples together \n",
    "print(np.mean(sample_mean))\n",
    "print(f'The MEAN for the provided SAMPLE DATA is: {np.mean(sample_mean)}')"
   ]
  },
  {
   "cell_type": "code",
   "execution_count": 34,
   "metadata": {},
   "outputs": [
    {
     "name": "stdout",
     "output_type": "stream",
     "text": [
      "14.57\n",
      "The MEAN for the provided ORIGINAL DATA is: 14.57\n",
      "*************\n",
      "*************\n",
      "CONCLUSIONS:\n",
      "We can conclude that the mean of the population and the samples are coming close.\n",
      "*************\n",
      "*************\n"
     ]
    }
   ],
   "source": [
    "# Find the mean of the original data called population \n",
    "print(np.mean(population))\n",
    "print(f'The MEAN for the provided ORIGINAL DATA is: {np.mean(population)}')\n",
    "\n",
    "\n",
    "# Conclusions:\n",
    "print(\"*************\")\n",
    "print(\"*************\")\n",
    "print(\"CONCLUSIONS:\") \n",
    "print(\"We can conclude that the mean of the population and the samples are coming close.\")\n",
    "print(\"*************\")\n",
    "print(\"*************\")"
   ]
  },
  {
   "cell_type": "markdown",
   "metadata": {},
   "source": [
    "# Statistics with Python: Measure of spreads\n",
    "    The variability of the data and how the data is distributed.\n",
    "    - Measure of spreads main categories:\n",
    "        1. Range\n",
    "        2. Quartile\n",
    "        3. Variance\n",
    "        4. Standard deviation"
   ]
  },
  {
   "cell_type": "markdown",
   "metadata": {},
   "source": [
    "# Range: \n",
    "    The difference between the lowest and highest values."
   ]
  },
  {
   "cell_type": "code",
   "execution_count": 35,
   "metadata": {},
   "outputs": [
    {
     "data": {
      "text/html": [
       "<center>\n",
       "<img src=\"https://www.mathsisfun.com/data/images/range.svg\", width=250>\n",
       "</center>"
      ],
      "text/plain": [
       "<IPython.core.display.HTML object>"
      ]
     },
     "metadata": {},
     "output_type": "display_data"
    }
   ],
   "source": [
    "%%html inline\n",
    "<center>\n",
    "<img src=\"https://www.mathsisfun.com/data/images/range.svg\", width=250>\n",
    "</center>"
   ]
  },
  {
   "cell_type": "code",
   "execution_count": 36,
   "metadata": {},
   "outputs": [
    {
     "name": "stdout",
     "output_type": "stream",
     "text": [
      "[-0.21475422  0.22182165 -1.00812152  0.02356664  0.16347183  0.31995789\n",
      " -0.82136399  0.48328502 -0.50881817]\n"
     ]
    }
   ],
   "source": [
    "# Lets make an example of Range\n",
    "n = np.random.randn(9)\n",
    "print(n)"
   ]
  },
  {
   "cell_type": "code",
   "execution_count": 37,
   "metadata": {},
   "outputs": [
    {
     "name": "stdout",
     "output_type": "stream",
     "text": [
      "1.4914065376581025\n",
      "The RANGE for the provided data is: 1.4914065376581025\n"
     ]
    }
   ],
   "source": [
    "# Calculating Range for provided data\n",
    "print(np.max(n)-np.min(n))\n",
    "print(f'The RANGE for the provided data is: {np.max(n)-np.min(n)}')"
   ]
  },
  {
   "cell_type": "markdown",
   "metadata": {},
   "source": [
    "# Quartiles and Percentiles: \n",
    "    The quartiles of a ranked set of data values are the four subsets whose boundaries are the three quartile points. Thus an individual item might be described as being \"on the upper quartile\".\n",
    "    \n",
    "    A quartile is a type of quantile. The first quartile (Q1) is defined as the middle number between the smallest number and the median of the data set. The second quartile (Q2) is the median of the data. The third quartile (Q3) is the middle value between the median and the highest value of the data set."
   ]
  },
  {
   "cell_type": "code",
   "execution_count": 38,
   "metadata": {},
   "outputs": [
    {
     "data": {
      "text/html": [
       "<center>\n",
       "<img src=\"https://upload.wikimedia.org/wikipedia/commons/thumb/1/1a/Boxplot_vs_PDF.svg/440px-Boxplot_vs_PDF.svg.png\", width=250>\n",
       "</center>"
      ],
      "text/plain": [
       "<IPython.core.display.HTML object>"
      ]
     },
     "metadata": {},
     "output_type": "display_data"
    }
   ],
   "source": [
    "%%html inline\n",
    "<center>\n",
    "<img src=\"https://upload.wikimedia.org/wikipedia/commons/thumb/1/1a/Boxplot_vs_PDF.svg/440px-Boxplot_vs_PDF.svg.png\", width=250>\n",
    "</center>"
   ]
  },
  {
   "cell_type": "code",
   "execution_count": 39,
   "metadata": {},
   "outputs": [],
   "source": [
    "# Q1\n",
    "    # Q1\n",
    "    # first quartile\n",
    "    # lower quartile\n",
    "    # 25th percentile\n",
    "    # splits off the lowest 25% of data from the highest 75%\n",
    "Q1 = np.percentile(n, 25)\n",
    "\n",
    "# Q2\n",
    "    # second quartile\n",
    "    # median\n",
    "    # 50th percentile\n",
    "    # cuts data set in half\n",
    "Q2 = np.percentile(n, 50)\n",
    "\n",
    "# Q3\n",
    "    # third quartile\n",
    "    # upper quartile\n",
    "    # 75th percentile\n",
    "    # splits off the highest 25% of data from the lowest 75%\n",
    "Q3 = np.percentile(n, 75)"
   ]
  },
  {
   "cell_type": "code",
   "execution_count": 40,
   "metadata": {},
   "outputs": [],
   "source": [
    "# IQR\n",
    "# In descriptive statistics, the interquartile range (IQR), \n",
    "# also called the midspread or middle 50%, or technically H-spread, \n",
    "# is a measure of statistical dispersion, being equal to the difference \n",
    "# between 75th and 25th percentiles, or between upper and lower quartiles:\n",
    "# IQR = Q3 −  Q1. \n",
    "\n",
    "IQR = Q3 - Q1"
   ]
  },
  {
   "cell_type": "code",
   "execution_count": 41,
   "metadata": {},
   "outputs": [
    {
     "name": "stdout",
     "output_type": "stream",
     "text": [
      "0.730639817833038\n"
     ]
    }
   ],
   "source": [
    "print(IQR)"
   ]
  },
  {
   "cell_type": "markdown",
   "metadata": {},
   "source": [
    "# Variance: \n",
    "    Informally, it measures how far a set of numbers are spread out from their average value."
   ]
  },
  {
   "cell_type": "code",
   "execution_count": 42,
   "metadata": {},
   "outputs": [
    {
     "data": {
      "text/html": [
       "<center>\n",
       "<img src=\"https://upload.wikimedia.org/wikipedia/commons/thumb/f/f9/Comparison_standard_deviations.svg/800px-Comparison_standard_deviations.svg.png\", width=550>\n",
       "</center>"
      ],
      "text/plain": [
       "<IPython.core.display.HTML object>"
      ]
     },
     "metadata": {},
     "output_type": "display_data"
    }
   ],
   "source": [
    "%%html inline\n",
    "<center>\n",
    "<img src=\"https://upload.wikimedia.org/wikipedia/commons/thumb/f/f9/Comparison_standard_deviations.svg/800px-Comparison_standard_deviations.svg.png\", width=550>\n",
    "</center>"
   ]
  },
  {
   "cell_type": "code",
   "execution_count": 43,
   "metadata": {},
   "outputs": [
    {
     "name": "stdout",
     "output_type": "stream",
     "text": [
      "8.285099999999998\n",
      "6.773333333333334\n"
     ]
    }
   ],
   "source": [
    "# Getting variance from population and sample from before\n",
    "print(np.var(population))\n",
    "print(np.var(sample))\n",
    "\n",
    "# Both variances are different"
   ]
  },
  {
   "cell_type": "markdown",
   "metadata": {},
   "source": [
    "# Standard deviation: \n",
    "    In statistics, the standard deviation (SD, also represented by the lower case Greek letter sigma σ or the Latin letter s) is a measure that is used to quantify the amount of variation or dispersion of a set of data values.\n",
    "    A low standard deviation indicates that the data points tend to be close to the mean (also called the expected value) of the set.\n",
    "    A high standard deviation indicates that the data points are spread out over a wider range of values."
   ]
  },
  {
   "cell_type": "code",
   "execution_count": 44,
   "metadata": {},
   "outputs": [
    {
     "data": {
      "text/html": [
       "<center>\n",
       "<img src=\"https://upload.wikimedia.org/wikipedia/commons/thumb/8/8c/Standard_deviation_diagram.svg/440px-Standard_deviation_diagram.svg.png\", width=550>\n",
       "</center>"
      ],
      "text/plain": [
       "<IPython.core.display.HTML object>"
      ]
     },
     "metadata": {},
     "output_type": "display_data"
    }
   ],
   "source": [
    "%%html inline\n",
    "<center>\n",
    "<img src=\"https://upload.wikimedia.org/wikipedia/commons/thumb/8/8c/Standard_deviation_diagram.svg/440px-Standard_deviation_diagram.svg.png\", width=550>\n",
    "</center>"
   ]
  },
  {
   "cell_type": "code",
   "execution_count": 45,
   "metadata": {},
   "outputs": [
    {
     "name": "stdout",
     "output_type": "stream",
     "text": [
      "2.878384963829543\n",
      "2.6025628394590847\n"
     ]
    }
   ],
   "source": [
    "# Getting variance from population and sample from before\n",
    "print(np.std(population))\n",
    "print(np.std(sample))"
   ]
  },
  {
   "cell_type": "code",
   "execution_count": 46,
   "metadata": {},
   "outputs": [
    {
     "name": "stdout",
     "output_type": "stream",
     "text": [
      "*************\n",
      "*************\n",
      "CONCLUSIONS:\n",
      "Both standard deviations are pretty close in population and sample.\n",
      "*************\n",
      "*************\n"
     ]
    }
   ],
   "source": [
    "# Conclusions:\n",
    "print(\"*************\")\n",
    "print(\"*************\")\n",
    "print(\"CONCLUSIONS:\") \n",
    "print(\"Both standard deviations are pretty close in population and sample.\")\n",
    "print(\"*************\")\n",
    "print(\"*************\")"
   ]
  },
  {
   "cell_type": "markdown",
   "metadata": {},
   "source": [
    "# Statistics with Python: Descriptive and Inferencial Statistics\n",
    "    Descriptive statistics: Description of the info that we are using.\n",
    "    \n",
    "    Inferencial statistics: Infere the data that is unknown to us, for example, height of man in population got from a sample."
   ]
  },
  {
   "cell_type": "code",
   "execution_count": 47,
   "metadata": {},
   "outputs": [
    {
     "data": {
      "text/html": [
       "<center>\n",
       "<img src=\"https://image.slidesharecdn.com/descriptivestatistics-160426085200/95/descriptive-statistics-and-inferential-statistics-1-638.jpg?cb=1461660791\", width=550>\n",
       "</center>"
      ],
      "text/plain": [
       "<IPython.core.display.HTML object>"
      ]
     },
     "metadata": {},
     "output_type": "display_data"
    }
   ],
   "source": [
    "%%html inline\n",
    "<center>\n",
    "<img src=\"https://image.slidesharecdn.com/descriptivestatistics-160426085200/95/descriptive-statistics-and-inferential-statistics-1-638.jpg?cb=1461660791\", width=550>\n",
    "</center>"
   ]
  },
  {
   "cell_type": "code",
   "execution_count": 48,
   "metadata": {},
   "outputs": [
    {
     "data": {
      "text/html": [
       "<center>\n",
       "<img src=\"https://www.wellbeingatschool.org.nz/sites/default/files/W@S_boxplot-labels.png\", width=350>\n",
       "</center>"
      ],
      "text/plain": [
       "<IPython.core.display.HTML object>"
      ]
     },
     "metadata": {},
     "output_type": "display_data"
    }
   ],
   "source": [
    "%%html inline\n",
    "<center>\n",
    "<img src=\"https://www.wellbeingatschool.org.nz/sites/default/files/W@S_boxplot-labels.png\", width=350>\n",
    "</center>"
   ]
  },
  {
   "cell_type": "code",
   "execution_count": 57,
   "metadata": {},
   "outputs": [],
   "source": [
    "# Creating a Pandas DataFrame to analyze \n",
    "df = pd.DataFrame(dict(id=range(60), age = np.random.randint(18,31, size = 60)))"
   ]
  },
  {
   "cell_type": "code",
   "execution_count": 58,
   "metadata": {},
   "outputs": [
    {
     "data": {
      "text/html": [
       "<div>\n",
       "<style scoped>\n",
       "    .dataframe tbody tr th:only-of-type {\n",
       "        vertical-align: middle;\n",
       "    }\n",
       "\n",
       "    .dataframe tbody tr th {\n",
       "        vertical-align: top;\n",
       "    }\n",
       "\n",
       "    .dataframe thead th {\n",
       "        text-align: right;\n",
       "    }\n",
       "</style>\n",
       "<table border=\"1\" class=\"dataframe\">\n",
       "  <thead>\n",
       "    <tr style=\"text-align: right;\">\n",
       "      <th></th>\n",
       "      <th>age</th>\n",
       "      <th>id</th>\n",
       "    </tr>\n",
       "  </thead>\n",
       "  <tbody>\n",
       "    <tr>\n",
       "      <th>0</th>\n",
       "      <td>29</td>\n",
       "      <td>0</td>\n",
       "    </tr>\n",
       "    <tr>\n",
       "      <th>1</th>\n",
       "      <td>20</td>\n",
       "      <td>1</td>\n",
       "    </tr>\n",
       "    <tr>\n",
       "      <th>2</th>\n",
       "      <td>27</td>\n",
       "      <td>2</td>\n",
       "    </tr>\n",
       "    <tr>\n",
       "      <th>3</th>\n",
       "      <td>22</td>\n",
       "      <td>3</td>\n",
       "    </tr>\n",
       "    <tr>\n",
       "      <th>4</th>\n",
       "      <td>22</td>\n",
       "      <td>4</td>\n",
       "    </tr>\n",
       "  </tbody>\n",
       "</table>\n",
       "</div>"
      ],
      "text/plain": [
       "   age  id\n",
       "0   29   0\n",
       "1   20   1\n",
       "2   27   2\n",
       "3   22   3\n",
       "4   22   4"
      ]
     },
     "execution_count": 58,
     "metadata": {},
     "output_type": "execute_result"
    }
   ],
   "source": [
    "# Preview DataFrame \n",
    "df.head()"
   ]
  },
  {
   "cell_type": "code",
   "execution_count": 59,
   "metadata": {},
   "outputs": [
    {
     "name": "stdout",
     "output_type": "stream",
     "text": [
      "The MEAN for the age column in provided data is: 23.05\n",
      "The MEDIAN for the age column in provided data is: 22.0\n",
      "The MODE for the age column in provided data is: 22\n",
      "The RANGE for the age column in provided data is: 12\n",
      "The VARIANCE for the age column in provided data is: 12.3475\n",
      "The STD DEV for the age column in provided data is: 3.51390096616282\n",
      "The IQR for the age column in provided data is: 6.0\n"
     ]
    }
   ],
   "source": [
    "# Calculating indicators for provided data\n",
    "print(f'The MEAN for the age column in provided data is: {np.mean(df[\"age\"])}')\n",
    "print(f'The MEDIAN for the age column in provided data is: {np.median(df[\"age\"])}')\n",
    "print(f'The MODE for the age column in provided data is: {mode(df[\"age\"])}')\n",
    "print(f'The RANGE for the age column in provided data is: {np.max(df[\"age\"]) - np.min(df[\"age\"]) }')\n",
    "\n",
    "\n",
    "# Q1\n",
    "    # Q1\n",
    "    # first quartile\n",
    "    # lower quartile\n",
    "    # 25th percentile\n",
    "    # splits off the lowest 25% of data from the highest 75%\n",
    "Q1 = np.percentile(df[\"age\"], 25)\n",
    "\n",
    "# Q2\n",
    "    # second quartile\n",
    "    # median\n",
    "    # 50th percentile\n",
    "    # cuts data set in half\n",
    "Q2 = np.percentile(df[\"age\"], 50)\n",
    "\n",
    "# Q3\n",
    "    # third quartile\n",
    "    # upper quartile\n",
    "    # 75th percentile\n",
    "    # splits off the highest 25% of data from the lowest 75%\n",
    "Q3 = np.percentile(df[\"age\"], 75)\n",
    "\n",
    "print(f'The VARIANCE for the age column in provided data is: {np.var(df[\"age\"])}')\n",
    "print(f'The STD DEV for the age column in provided data is: {np.std(df[\"age\"])}')\n",
    "print(f'The IQR for the age column in provided data is: {Q3-Q1}')"
   ]
  },
  {
   "cell_type": "code",
   "execution_count": 60,
   "metadata": {},
   "outputs": [
    {
     "data": {
      "image/png": "[encoded data removed]",
      "text/plain": [
       "<matplotlib.figure.Figure at 0x1085b47f0>"
      ]
     },
     "metadata": {},
     "output_type": "display_data"
    }
   ],
   "source": [
    "_= df.boxplot(column = \"age\", return_type = 'axes')"
   ]
  },
  {
   "cell_type": "markdown",
   "metadata": {},
   "source": [
    "# Skewness\n",
    "    In probability theory and statistics, skewness is a measure of the asymmetry of the probability distribution of a real-valued random variable about its mean. The skewness value can be positive or negative, or undefined.\n",
    "    \n",
    "# Kurtosis\n",
    "    La curtosis de una variable estadística/aleatoria es una característica de forma de su distribución de frecuencias/probabilidad.\n",
    "\n",
    "    Según su concepción clásica, una curtosis grande implica una mayor concentración de valores de la variable tanto muy cerca de la media de la distribución (pico) como muy lejos de ella (colas), al tiempo que existe una relativamente menor frecuencia de valores intermedios. Esto explica una forma de la distribución de frecuencias/probabilidad con colas más gruesas, con un centro más apuntado y una menor proporción de valores intermedios entre el pico y colas."
   ]
  },
  {
   "cell_type": "code",
   "execution_count": 62,
   "metadata": {},
   "outputs": [
    {
     "data": {
      "text/html": [
       "<center>\n",
       "<img src=\"https://upload.wikimedia.org/wikipedia/commons/thumb/f/f8/Negative_and_positive_skew_diagrams_%28English%29.svg/892px-Negative_and_positive_skew_diagrams_%28English%29.svg.png\", width=550>\n",
       "<img src=\"https://i.stack.imgur.com/KBQLN.jpg\", width=550>\n",
       "</center>"
      ],
      "text/plain": [
       "<IPython.core.display.HTML object>"
      ]
     },
     "metadata": {},
     "output_type": "display_data"
    }
   ],
   "source": [
    "%%html inline\n",
    "<center>\n",
    "<img src=\"https://upload.wikimedia.org/wikipedia/commons/thumb/f/f8/Negative_and_positive_skew_diagrams_%28English%29.svg/892px-Negative_and_positive_skew_diagrams_%28English%29.svg.png\", width=550>\n",
    "<img src=\"https://i.stack.imgur.com/KBQLN.jpg\", width=550>\n",
    "</center>"
   ]
  },
  {
   "cell_type": "code",
   "execution_count": 63,
   "metadata": {},
   "outputs": [
    {
     "name": "stdout",
     "output_type": "stream",
     "text": [
      "The SKEWENESS for the age column in provided data is: 0.328586396990152\n",
      "The KURTOIS for the age column in provided data is: -1.0282201885695739\n"
     ]
    }
   ],
   "source": [
    "swekeness = df[\"age\"].skew()\n",
    "kurtosis = df[\"age\"].kurt()\n",
    "\n",
    "print(f'The SKEWENESS for the age column in provided data is: {swekeness}')\n",
    "print(f'The KURTOIS for the age column in provided data is: {kurtosis}')"
   ]
  },
  {
   "cell_type": "markdown",
   "metadata": {},
   "source": [
    "# Statistics with Python: Inferencial Statistics\n",
    "    Inferencial statistics: Infers properties of population, for example, by testing hypothesis and deriving estimates.\n",
    "    \n",
    "    Inferencial statistics: Infere the data that is unknown to us, for example, height of man in population got from a sample."
   ]
  },
  {
   "cell_type": "code",
   "execution_count": 81,
   "metadata": {},
   "outputs": [],
   "source": [
    "# Lets take random subsets of samples from population data\n",
    "np.random.seed(10)\n",
    "\n",
    "# Lets create an additional population with 1000 data points\n",
    "population = np.random.randint(10,20,1000)\n",
    "\n",
    "# Lets create an empty array of means\n",
    "estimates = []\n",
    "\n",
    "for i in range(200):\n",
    "    samples = np.random.choice(population, 100)\n",
    "    estimates.append(samples.mean())"
   ]
  },
  {
   "cell_type": "code",
   "execution_count": 82,
   "metadata": {},
   "outputs": [
    {
     "name": "stdout",
     "output_type": "stream",
     "text": [
      "14.565\n"
     ]
    }
   ],
   "source": [
    "# Calculating the mean\n",
    "print(np.mean(population))"
   ]
  },
  {
   "cell_type": "code",
   "execution_count": 83,
   "metadata": {},
   "outputs": [
    {
     "data": {
      "image/png": "[encoded data removed]",
      "text/plain": [
       "<matplotlib.figure.Figure at 0x10e1515c0>"
      ]
     },
     "metadata": {},
     "output_type": "display_data"
    }
   ],
   "source": [
    "# EDA for estimates\n",
    "_= pd.DataFrame(estimates).plot(kind='density')"
   ]
  },
  {
   "cell_type": "markdown",
   "metadata": {},
   "source": [
    "# Confidence intervals\n",
    "    Par o varios pares de números entre los cuales se estima que estará cierto valor desconocido con una determinada probabilidad de acierto. Formalmente, estos números determinan un intervalo, que se calcula a partir de datos de una muestra, y el valor desconocido es un parámetro poblacional. La probabilidad de éxito en la estimación se representa con 1 - α y se denomina nivel de confianza. En estas circunstancias, α es el llamado error aleatorio o nivel de significación, esto es, una medida de las posibilidades de fallar en la estimación mediante tal intervalo.\n",
    "    \n",
    "    It gives us an upper and lower limit where 95% of our data will be available."
   ]
  },
  {
   "cell_type": "code",
   "execution_count": 87,
   "metadata": {},
   "outputs": [
    {
     "data": {
      "text/html": [
       "<center>\n",
       "<img src=\"https://upload.wikimedia.org/wikipedia/commons/7/7a/Margarinefilling.png\", width=350>\n",
       "</center>"
      ],
      "text/plain": [
       "<IPython.core.display.HTML object>"
      ]
     },
     "metadata": {},
     "output_type": "display_data"
    }
   ],
   "source": [
    "%%html inline\n",
    "<center>\n",
    "<img src=\"https://upload.wikimedia.org/wikipedia/commons/7/7a/Margarinefilling.png\", width=350>\n",
    "</center>"
   ]
  },
  {
   "cell_type": "markdown",
   "metadata": {},
   "source": [
    "# Margin of error\n",
    "    The margin of error is a statistic expressing the amount of random sampling error in a survey's results. The larger the margin of error, the less confidence one should have that the poll's reported results are close to the \"true\" figures; that is, the figures for the whole population. Margin of error is positive whenever a population is incompletely sampled and the outcome measure has positive variance (that is, it varies)."
   ]
  },
  {
   "cell_type": "code",
   "execution_count": 89,
   "metadata": {},
   "outputs": [
    {
     "data": {
      "text/html": [
       "<center>\n",
       "<img src=\"https://upload.wikimedia.org/wikipedia/commons/thumb/1/1d/Marginoferror95.PNG/800px-Marginoferror95.PNG\", width=450>\n",
       "</center>"
      ],
      "text/plain": [
       "<IPython.core.display.HTML object>"
      ]
     },
     "metadata": {},
     "output_type": "display_data"
    }
   ],
   "source": [
    "%%html inline\n",
    "<center>\n",
    "<img src=\"https://upload.wikimedia.org/wikipedia/commons/thumb/1/1d/Marginoferror95.PNG/800px-Marginoferror95.PNG\", width=450>\n",
    "</center>"
   ]
  },
  {
   "cell_type": "code",
   "execution_count": 102,
   "metadata": {},
   "outputs": [],
   "source": [
    "# Import scipy stats in order to calculate critical z and t values \n",
    "import scipy.stats as stats\n",
    "\n",
    "# Calculating z and t critical value\n",
    "z_critical = stats.norm.ppf(q = 0.975)\n",
    "t_critical = z_critical = stats.t.ppf(q = 0.975, df = 24)"
   ]
  },
  {
   "cell_type": "code",
   "execution_count": 103,
   "metadata": {},
   "outputs": [],
   "source": [
    "# Calculating margin of errors based on critical values\n",
    "margin_of_error = z_critical * (np.std(estimates)/np.sqrt(len(estimates)))"
   ]
  },
  {
   "cell_type": "code",
   "execution_count": 104,
   "metadata": {},
   "outputs": [],
   "source": [
    "# Calculating confidence intervals\n",
    "lower_bound = np.mean(estimates) - margin_of_error\n",
    "upper_bound = np.mean(estimates) + margin_of_error"
   ]
  },
  {
   "cell_type": "code",
   "execution_count": 105,
   "metadata": {},
   "outputs": [
    {
     "name": "stdout",
     "output_type": "stream",
     "text": [
      "LOWER bound for confidence interval: 14.458326002884847\n",
      "UPPER bound for confidence interval: 14.54137399711515\n"
     ]
    }
   ],
   "source": [
    "# Preview results\n",
    "print(f'LOWER bound for confidence interval: {lower_bound}')\n",
    "print(f'UPPER bound for confidence interval: {upper_bound}')"
   ]
  },
  {
   "cell_type": "markdown",
   "metadata": {},
   "source": [
    "# Statistics with Python: Data types\n"
   ]
  },
  {
   "cell_type": "code",
   "execution_count": 108,
   "metadata": {},
   "outputs": [
    {
     "data": {
      "text/html": [
       "<center>\n",
       "<img src=\"https://www.mathsisfun.com/data/images/data-types.svg\", width=350>\n",
       "</center>"
      ],
      "text/plain": [
       "<IPython.core.display.HTML object>"
      ]
     },
     "metadata": {},
     "output_type": "display_data"
    }
   ],
   "source": [
    "%%html inline\n",
    "<center>\n",
    "<img src=\"https://www.mathsisfun.com/data/images/data-types.svg\", width=350>\n",
    "</center>"
   ]
  },
  {
   "cell_type": "markdown",
   "metadata": {},
   "source": [
    "# Continous variables"
   ]
  },
  {
   "cell_type": "code",
   "execution_count": 116,
   "metadata": {},
   "outputs": [
    {
     "name": "stdout",
     "output_type": "stream",
     "text": [
      "True\n"
     ]
    }
   ],
   "source": [
    "# Continous variables\n",
    "mean_value = 20\n",
    "std_dev = 2\n",
    "\n",
    "# Creation of random sample for a normal distribution\n",
    "h = sorted(np.random.normal(mean_value, std_dev, 100))\n",
    "\n",
    "# Verification for mean_value and h\n",
    "verification = abs(mean_value-np.mean(h)) < 2\n",
    "print(verification)"
   ]
  },
  {
   "cell_type": "code",
   "execution_count": 137,
   "metadata": {},
   "outputs": [
    {
     "data": {
      "image/png": "[encoded data removed]",
      "text/plain": [
       "<matplotlib.figure.Figure at 0x1a13cf3518>"
      ]
     },
     "metadata": {},
     "output_type": "display_data"
    }
   ],
   "source": [
    "# Plotting it \n",
    "_= plt.hist(h, normed = True)\n",
    "\n",
    "# Conclusions: The data is under bins and we encounter a \"continous\" flow of data."
   ]
  },
  {
   "cell_type": "code",
   "execution_count": 138,
   "metadata": {},
   "outputs": [
    {
     "data": {
      "image/png": "[encoded data removed]",
      "text/plain": [
       "<matplotlib.figure.Figure at 0x10fa79898>"
      ]
     },
     "metadata": {},
     "output_type": "display_data"
    }
   ],
   "source": [
    "fit = stats.norm.pdf(h, np.mean(h), np.std(h))\n",
    "_= plt.plot(h,fit,'x')\n",
    "_= plt.hist(h, normed = True)\n",
    "\n",
    "# Conclusions: Here we have the original data and also the normal distribution data as a reference, \n",
    "# the main conclusion is that the data is equally/\"normal\" distributed."
   ]
  },
  {
   "cell_type": "markdown",
   "metadata": {},
   "source": [
    "# Discrete variables"
   ]
  },
  {
   "cell_type": "code",
   "execution_count": 144,
   "metadata": {},
   "outputs": [
    {
     "data": {
      "image/png": "[encoded data removed]",
      "text/plain": [
       "<matplotlib.figure.Figure at 0x10f24de48>"
      ]
     },
     "metadata": {},
     "output_type": "display_data"
    }
   ],
   "source": [
    "# Discrete variables\n",
    "# These are the numeric variables that present a integer value everytime. I.e. Rolling the dice; 6 different options.\n",
    "\n",
    "# Creation of empty array and plotting it \n",
    "_= plt.hist(np.random.randint(1,6,100))"
   ]
  },
  {
   "cell_type": "markdown",
   "metadata": {},
   "source": [
    "# Categorical variables\n",
    "    This is the data that is commonly used to represent data characteristics, such as, race, nationality, marital status, hometown, etc."
   ]
  },
  {
   "cell_type": "code",
   "execution_count": null,
   "metadata": {},
   "outputs": [],
   "source": []
  }
 ],
 "metadata": {
  "kernelspec": {
   "display_name": "Python 3",
   "language": "python",
   "name": "python3"
  },
  "language_info": {
   "codemirror_mode": {
    "name": "ipython",
    "version": 3
   },
   "file_extension": ".py",
   "mimetype": "text/x-python",
   "name": "python",
   "nbconvert_exporter": "python",
   "pygments_lexer": "ipython3",
   "version": "3.6.8"
  }
 },
 "nbformat": 4,
 "nbformat_minor": 2
}
