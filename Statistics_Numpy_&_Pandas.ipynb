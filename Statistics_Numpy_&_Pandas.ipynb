{
 "cells": [
  {
   "cell_type": "markdown",
   "metadata": {},
   "source": [
    "# Statistics with Python: Central tendency"
   ]
  },
  {
   "cell_type": "code",
   "execution_count": 295,
   "metadata": {},
   "outputs": [],
   "source": [
    "# Import dependencies\n",
    "import numpy as np\n",
    "import pandas as pd\n",
    "import matplotlib.pyplot as plt\n",
    "%matplotlib inline"
   ]
  },
  {
   "cell_type": "code",
   "execution_count": 296,
   "metadata": {},
   "outputs": [
    {
     "name": "stdout",
     "output_type": "stream",
     "text": [
      "[9 9 8 9 9 9 7 8 7 7 7 8 8 8 7 9 7 9 9 7]\n"
     ]
    }
   ],
   "source": [
    "# Create a random number list of integer values \n",
    "m = np.random.randint(7, 10, 20)\n",
    "\n",
    "print(m)"
   ]
  },
  {
   "cell_type": "markdown",
   "metadata": {},
   "source": [
    "## Mean: \n",
    "    For a data set, the arithmetic mean, also called the mathematical expectation or average, is the central value of a discrete set of numbers: specifically, the sum of the values divided by the number of values. "
   ]
  },
  {
   "cell_type": "code",
   "execution_count": 298,
   "metadata": {
    "scrolled": false
   },
   "outputs": [
    {
     "data": {
      "text/html": [
       "<center>\n",
       "<img src=\"https://upload.wikimedia.org/wikipedia/commons/thumb/d/de/Comparison_mean_median_mode.svg/1024px-Comparison_mean_median_mode.svg.png\", width=350>\n",
       "</center>"
      ],
      "text/plain": [
       "<IPython.core.display.HTML object>"
      ]
     },
     "metadata": {},
     "output_type": "display_data"
    }
   ],
   "source": [
    "%%html inline\n",
    "<center>\n",
    "<img src=\"https://upload.wikimedia.org/wikipedia/commons/thumb/d/de/Comparison_mean_median_mode.svg/1024px-Comparison_mean_median_mode.svg.png\", width=350>\n",
    "</center>"
   ]
  },
  {
   "cell_type": "code",
   "execution_count": 299,
   "metadata": {
    "scrolled": true
   },
   "outputs": [
    {
     "name": "stdout",
     "output_type": "stream",
     "text": [
      "8.05\n",
      "The MEAN for the provided ORIGINAL DATA is: 8.05\n"
     ]
    }
   ],
   "source": [
    "# Calculate the mean \n",
    "print(np.mean(m))\n",
    "print(f'The MEAN for the provided ORIGINAL DATA is: {np.mean(m)}')"
   ]
  },
  {
   "cell_type": "markdown",
   "metadata": {},
   "source": [
    "## Median: \n",
    "    The median is the value separating the higher half from the lower half of a data sample (a population or a probability distribution). For a data set, it may be thought of as the \"middle\" value. "
   ]
  },
  {
   "cell_type": "code",
   "execution_count": 300,
   "metadata": {
    "scrolled": false
   },
   "outputs": [
    {
     "data": {
      "text/html": [
       "<center>\n",
       "<img src=\"https://upload.wikimedia.org/wikipedia/commons/thumb/c/cf/Finding_the_median.png/440px-Finding_the_median.png\", width=350>\n",
       "</center>"
      ],
      "text/plain": [
       "<IPython.core.display.HTML object>"
      ]
     },
     "metadata": {},
     "output_type": "display_data"
    }
   ],
   "source": [
    "%%html inline\n",
    "<center>\n",
    "<img src=\"https://upload.wikimedia.org/wikipedia/commons/thumb/c/cf/Finding_the_median.png/440px-Finding_the_median.png\", width=350>\n",
    "</center>"
   ]
  },
  {
   "cell_type": "code",
   "execution_count": 301,
   "metadata": {},
   "outputs": [
    {
     "name": "stdout",
     "output_type": "stream",
     "text": [
      "8.0\n",
      "The MEDIAN for the provided ORIGINAL DATA is: 8.0\n"
     ]
    }
   ],
   "source": [
    "print(np.median(m))\n",
    "print(f'The MEDIAN for the provided ORIGINAL DATA is: {np.median(m)}')"
   ]
  },
  {
   "cell_type": "markdown",
   "metadata": {},
   "source": [
    "## Mode: \n",
    "    The mode of a set of data is the value that appears most often."
   ]
  },
  {
   "cell_type": "code",
   "execution_count": 302,
   "metadata": {
    "scrolled": true
   },
   "outputs": [
    {
     "data": {
      "text/html": [
       "<center>\n",
       "<img src=\"https://upload.wikimedia.org/wikipedia/commons/thumb/3/33/Visualisation_mode_median_mean.svg/240px-Visualisation_mode_median_mean.svg.png\", width=180>\n",
       "</center>"
      ],
      "text/plain": [
       "<IPython.core.display.HTML object>"
      ]
     },
     "metadata": {},
     "output_type": "display_data"
    }
   ],
   "source": [
    "%%html inline\n",
    "<center>\n",
    "<img src=\"https://upload.wikimedia.org/wikipedia/commons/thumb/3/33/Visualisation_mode_median_mean.svg/240px-Visualisation_mode_median_mean.svg.png\", width=180>\n",
    "</center>"
   ]
  },
  {
   "cell_type": "code",
   "execution_count": 303,
   "metadata": {},
   "outputs": [],
   "source": [
    "# Import additional library for mode \n",
    "from statistics import mode"
   ]
  },
  {
   "cell_type": "code",
   "execution_count": 304,
   "metadata": {},
   "outputs": [
    {
     "name": "stdout",
     "output_type": "stream",
     "text": [
      "9\n",
      "The MODE for the provided ORIGINAL DATA is: 9\n"
     ]
    }
   ],
   "source": [
    "print(mode(m))\n",
    "print(f'The MODE for the provided ORIGINAL DATA is: {mode(m)}')"
   ]
  },
  {
   "cell_type": "markdown",
   "metadata": {},
   "source": [
    "## Population: \n",
    "    Total observation of the data."
   ]
  },
  {
   "cell_type": "markdown",
   "metadata": {},
   "source": [
    "## Sample: \n",
    "    Subset population that describes population that we will be able to draw conclusions.\n"
   ]
  },
  {
   "cell_type": "code",
   "execution_count": 306,
   "metadata": {
    "scrolled": true
   },
   "outputs": [
    {
     "data": {
      "text/html": [
       "<center>\n",
       "<img src=\"https://h5p.org/sites/default/files/h5p/content/319031/images/file-5bac71c2ef4fc.png\", width=250>\n",
       "</center>"
      ],
      "text/plain": [
       "<IPython.core.display.HTML object>"
      ]
     },
     "metadata": {},
     "output_type": "display_data"
    }
   ],
   "source": [
    "%%html inline\n",
    "<center>\n",
    "<img src=\"https://h5p.org/sites/default/files/h5p/content/319031/images/file-5bac71c2ef4fc.png\", width=250>\n",
    "</center>"
   ]
  },
  {
   "cell_type": "code",
   "execution_count": 307,
   "metadata": {},
   "outputs": [],
   "source": [
    "# Defining data for population \n",
    "population = np.random.randint(10,20,100)"
   ]
  },
  {
   "cell_type": "code",
   "execution_count": 308,
   "metadata": {},
   "outputs": [
    {
     "name": "stdout",
     "output_type": "stream",
     "text": [
      "15.07\n",
      "15.0\n",
      "18\n",
      "The MEAN for the provided SAMPLE DATA is: 15.07\n",
      "The MEDIAN for the provided SAMPLE DATA is: 15.0\n",
      "The MODE for the provided SAMPLE DATA is: 18\n"
     ]
    }
   ],
   "source": [
    "# Calculate and print mean, median and mode for the whole population\n",
    "print(np.mean(population))\n",
    "print(np.median(population))\n",
    "print(mode(population))\n",
    "\n",
    "print(f'The MEAN for the provided SAMPLE DATA is: {np.mean(population)}')\n",
    "print(f'The MEDIAN for the provided SAMPLE DATA is: {np.median(population)}')\n",
    "print(f'The MODE for the provided SAMPLE DATA is: {mode(population)}')"
   ]
  },
  {
   "cell_type": "code",
   "execution_count": 309,
   "metadata": {},
   "outputs": [],
   "source": [
    "# Creating a subset of population data\n",
    "sample = np.random.choice(population, 30)"
   ]
  },
  {
   "cell_type": "code",
   "execution_count": 311,
   "metadata": {},
   "outputs": [
    {
     "name": "stdout",
     "output_type": "stream",
     "text": [
      "14.866666666666667\n",
      "15.0\n",
      "18\n",
      "The MEAN for the provided SAMPLE DATA is: 14.866666666666667\n",
      "The MEDIAN for the provided SAMPLE DATA is: 15.0\n",
      "The MODE for the provided SAMPLE DATA is: 18\n"
     ]
    }
   ],
   "source": [
    "# Calculate and print mean, median and mode for the subset of data\n",
    "print(np.mean(sample))\n",
    "print(np.median(sample))\n",
    "print(mode(sample))\n",
    "\n",
    "print(f'The MEAN for the provided SAMPLE DATA is: {np.mean(sample)}')\n",
    "print(f'The MEDIAN for the provided SAMPLE DATA is: {np.median(sample)}')\n",
    "print(f'The MODE for the provided SAMPLE DATA is: {mode(sample)}')"
   ]
  },
  {
   "cell_type": "code",
   "execution_count": 312,
   "metadata": {},
   "outputs": [],
   "source": [
    "# Creating several subset of data (random samples)\n",
    "sample_1 = np.random.choice(population, 20)\n",
    "sample_2 = np.random.choice(population, 20)\n",
    "sample_3 = np.random.choice(population, 20)\n",
    "sample_4 = np.random.choice(population, 20)\n",
    "sample_5 = np.random.choice(population, 20)\n",
    "sample_6 = np.random.choice(population, 20)\n",
    "sample_7 = np.random.choice(population, 20)\n",
    "sample_8 = np.random.choice(population, 20)\n",
    "\n",
    "# Getting all samples in a dictionary\n",
    "all_samples = [sample, sample_1, sample_2, sample_3, sample_4, sample_5, sample_6, sample_7, sample_8]\n",
    "\n",
    "# Creating an empty array to store mean values from the sample\n",
    "sample_mean = []"
   ]
  },
  {
   "cell_type": "code",
   "execution_count": 313,
   "metadata": {},
   "outputs": [
    {
     "name": "stdout",
     "output_type": "stream",
     "text": [
      "14.866666666666667\n",
      "14.6\n",
      "14.4\n",
      "15.0\n",
      "15.65\n",
      "13.95\n",
      "15.3\n",
      "14.75\n",
      "15.25\n"
     ]
    }
   ],
   "source": [
    "# For loop to iterate and get all mean values \n",
    "for i in all_samples:\n",
    "    sample_mean.append(np.mean(i))\n",
    "    print(np.mean(i))"
   ]
  },
  {
   "cell_type": "code",
   "execution_count": 314,
   "metadata": {},
   "outputs": [
    {
     "name": "stdout",
     "output_type": "stream",
     "text": [
      "14.862962962962964\n",
      "The MEAN for the provided SAMPLE DATA is: 14.862962962962964\n"
     ]
    }
   ],
   "source": [
    "# Find the mean of all the samples together \n",
    "print(np.mean(sample_mean))\n",
    "print(f'The MEAN for the provided SAMPLE DATA is: {np.mean(sample_mean)}')"
   ]
  },
  {
   "cell_type": "code",
   "execution_count": 315,
   "metadata": {},
   "outputs": [
    {
     "name": "stdout",
     "output_type": "stream",
     "text": [
      "15.07\n",
      "The MEAN for the provided ORIGINAL DATA is: 15.07\n",
      "*************\n",
      "*************\n",
      "CONCLUSIONS:\n",
      "We can conclude that the mean of the population and the samples are coming close.\n",
      "*************\n",
      "*************\n"
     ]
    }
   ],
   "source": [
    "# Find the mean of the original data called population \n",
    "print(np.mean(population))\n",
    "print(f'The MEAN for the provided ORIGINAL DATA is: {np.mean(population)}')\n",
    "\n",
    "\n",
    "# Conclusions:\n",
    "print(\"*************\")\n",
    "print(\"*************\")\n",
    "print(\"CONCLUSIONS:\") \n",
    "print(\"We can conclude that the mean of the population and the samples are coming close.\")\n",
    "print(\"*************\")\n",
    "print(\"*************\")"
   ]
  },
  {
   "cell_type": "markdown",
   "metadata": {},
   "source": [
    "# Statistics with Python: Measure of spreads\n",
    "    The variability of the data and how the data is distributed.\n",
    "    - Measure of spreads main categories:\n",
    "        1. Range\n",
    "        2. Quartile\n",
    "        3. Variance\n",
    "        4. Standard deviation"
   ]
  },
  {
   "cell_type": "markdown",
   "metadata": {},
   "source": [
    "# Range: \n",
    "    The difference between the lowest and highest values."
   ]
  },
  {
   "cell_type": "code",
   "execution_count": 316,
   "metadata": {},
   "outputs": [
    {
     "data": {
      "text/html": [
       "<center>\n",
       "<img src=\"https://www.mathsisfun.com/data/images/range.svg\", width=250>\n",
       "</center>"
      ],
      "text/plain": [
       "<IPython.core.display.HTML object>"
      ]
     },
     "metadata": {},
     "output_type": "display_data"
    }
   ],
   "source": [
    "%%html inline\n",
    "<center>\n",
    "<img src=\"https://www.mathsisfun.com/data/images/range.svg\", width=250>\n",
    "</center>"
   ]
  },
  {
   "cell_type": "code",
   "execution_count": 317,
   "metadata": {},
   "outputs": [
    {
     "name": "stdout",
     "output_type": "stream",
     "text": [
      "[-1.13537671 -0.61958033 -1.20238811 -1.46959283 -1.35143037  0.48267425\n",
      "  0.9004935  -0.81570011  0.9787813 ]\n"
     ]
    }
   ],
   "source": [
    "# Lets make an example of Range\n",
    "n = np.random.randn(9)\n",
    "print(n)"
   ]
  },
  {
   "cell_type": "code",
   "execution_count": 318,
   "metadata": {},
   "outputs": [
    {
     "name": "stdout",
     "output_type": "stream",
     "text": [
      "2.4483741375958674\n",
      "The RANGE for the provided data is: 2.4483741375958674\n"
     ]
    }
   ],
   "source": [
    "# Calculating Range for provided data\n",
    "print(np.max(n)-np.min(n))\n",
    "print(f'The RANGE for the provided data is: {np.max(n)-np.min(n)}')"
   ]
  },
  {
   "cell_type": "markdown",
   "metadata": {},
   "source": [
    "# Quartiles and Percentiles: \n",
    "    The quartiles of a ranked set of data values are the four subsets whose boundaries are the three quartile points. Thus an individual item might be described as being \"on the upper quartile\".\n",
    "    \n",
    "    A quartile is a type of quantile. The first quartile (Q1) is defined as the middle number between the smallest number and the median of the data set. The second quartile (Q2) is the median of the data. The third quartile (Q3) is the middle value between the median and the highest value of the data set."
   ]
  },
  {
   "cell_type": "code",
   "execution_count": 319,
   "metadata": {},
   "outputs": [
    {
     "data": {
      "text/html": [
       "<center>\n",
       "<img src=\"https://upload.wikimedia.org/wikipedia/commons/thumb/1/1a/Boxplot_vs_PDF.svg/440px-Boxplot_vs_PDF.svg.png\", width=250>\n",
       "</center>"
      ],
      "text/plain": [
       "<IPython.core.display.HTML object>"
      ]
     },
     "metadata": {},
     "output_type": "display_data"
    }
   ],
   "source": [
    "%%html inline\n",
    "<center>\n",
    "<img src=\"https://upload.wikimedia.org/wikipedia/commons/thumb/1/1a/Boxplot_vs_PDF.svg/440px-Boxplot_vs_PDF.svg.png\", width=250>\n",
    "</center>"
   ]
  },
  {
   "cell_type": "code",
   "execution_count": 320,
   "metadata": {},
   "outputs": [],
   "source": [
    "# Q1\n",
    "    # Q1\n",
    "    # first quartile\n",
    "    # lower quartile\n",
    "    # 25th percentile\n",
    "    # splits off the lowest 25% of data from the highest 75%\n",
    "Q1 = np.percentile(n, 25)\n",
    "\n",
    "# Q2\n",
    "    # second quartile\n",
    "    # median\n",
    "    # 50th percentile\n",
    "    # cuts data set in half\n",
    "Q2 = np.percentile(n, 50)\n",
    "\n",
    "# Q3\n",
    "    # third quartile\n",
    "    # upper quartile\n",
    "    # 75th percentile\n",
    "    # splits off the highest 25% of data from the lowest 75%\n",
    "Q3 = np.percentile(n, 75)"
   ]
  },
  {
   "cell_type": "code",
   "execution_count": 321,
   "metadata": {},
   "outputs": [],
   "source": [
    "# IQR\n",
    "# In descriptive statistics, the interquartile range (IQR), \n",
    "# also called the midspread or middle 50%, or technically H-spread, \n",
    "# is a measure of statistical dispersion, being equal to the difference \n",
    "# between 75th and 25th percentiles, or between upper and lower quartiles:\n",
    "# IQR = Q3 −  Q1. \n",
    "\n",
    "IQR = Q3 - Q1"
   ]
  },
  {
   "cell_type": "code",
   "execution_count": 322,
   "metadata": {},
   "outputs": [
    {
     "name": "stdout",
     "output_type": "stream",
     "text": [
      "1.6850623577824415\n"
     ]
    }
   ],
   "source": [
    "print(IQR)"
   ]
  },
  {
   "cell_type": "markdown",
   "metadata": {},
   "source": [
    "# Variance: \n",
    "    Informally, it measures how far a set of numbers are spread out from their average value."
   ]
  },
  {
   "cell_type": "code",
   "execution_count": 323,
   "metadata": {},
   "outputs": [
    {
     "data": {
      "text/html": [
       "<center>\n",
       "<img src=\"https://upload.wikimedia.org/wikipedia/commons/thumb/f/f9/Comparison_standard_deviations.svg/800px-Comparison_standard_deviations.svg.png\", width=550>\n",
       "</center>"
      ],
      "text/plain": [
       "<IPython.core.display.HTML object>"
      ]
     },
     "metadata": {},
     "output_type": "display_data"
    }
   ],
   "source": [
    "%%html inline\n",
    "<center>\n",
    "<img src=\"https://upload.wikimedia.org/wikipedia/commons/thumb/f/f9/Comparison_standard_deviations.svg/800px-Comparison_standard_deviations.svg.png\", width=550>\n",
    "</center>"
   ]
  },
  {
   "cell_type": "code",
   "execution_count": 325,
   "metadata": {},
   "outputs": [
    {
     "name": "stdout",
     "output_type": "stream",
     "text": [
      "8.3651\n",
      "10.58222222222222\n"
     ]
    }
   ],
   "source": [
    "# Getting variance from population and sample from before\n",
    "print(np.var(population))\n",
    "print(np.var(sample))\n",
    "\n",
    "# Both variances are different"
   ]
  },
  {
   "cell_type": "markdown",
   "metadata": {},
   "source": [
    "# Standard deviation: \n",
    "    In statistics, the standard deviation (SD, also represented by the lower case Greek letter sigma σ or the Latin letter s) is a measure that is used to quantify the amount of variation or dispersion of a set of data values.\n",
    "    A low standard deviation indicates that the data points tend to be close to the mean (also called the expected value) of the set.\n",
    "    A high standard deviation indicates that the data points are spread out over a wider range of values."
   ]
  },
  {
   "cell_type": "code",
   "execution_count": 326,
   "metadata": {},
   "outputs": [
    {
     "data": {
      "text/html": [
       "<center>\n",
       "<img src=\"https://upload.wikimedia.org/wikipedia/commons/thumb/8/8c/Standard_deviation_diagram.svg/440px-Standard_deviation_diagram.svg.png\", width=550>\n",
       "</center>"
      ],
      "text/plain": [
       "<IPython.core.display.HTML object>"
      ]
     },
     "metadata": {},
     "output_type": "display_data"
    }
   ],
   "source": [
    "%%html inline\n",
    "<center>\n",
    "<img src=\"https://upload.wikimedia.org/wikipedia/commons/thumb/8/8c/Standard_deviation_diagram.svg/440px-Standard_deviation_diagram.svg.png\", width=550>\n",
    "</center>"
   ]
  },
  {
   "cell_type": "code",
   "execution_count": 327,
   "metadata": {},
   "outputs": [
    {
     "name": "stdout",
     "output_type": "stream",
     "text": [
      "2.8922482604368525\n",
      "3.2530327730015602\n"
     ]
    }
   ],
   "source": [
    "# Getting variance from population and sample from before\n",
    "print(np.std(population))\n",
    "print(np.std(sample))"
   ]
  },
  {
   "cell_type": "code",
   "execution_count": 328,
   "metadata": {},
   "outputs": [
    {
     "name": "stdout",
     "output_type": "stream",
     "text": [
      "*************\n",
      "*************\n",
      "CONCLUSIONS:\n",
      "Both standard deviations are pretty close in population and sample.\n",
      "*************\n",
      "*************\n"
     ]
    }
   ],
   "source": [
    "# Conclusions:\n",
    "print(\"*************\")\n",
    "print(\"*************\")\n",
    "print(\"CONCLUSIONS:\") \n",
    "print(\"Both standard deviations are pretty close in population and sample.\")\n",
    "print(\"*************\")\n",
    "print(\"*************\")"
   ]
  },
  {
   "cell_type": "markdown",
   "metadata": {},
   "source": [
    "# Statistics with Python: Descriptive and Inferencial Statistics\n",
    "    Descriptive statistics: Description of the info that we are using.\n",
    "    \n",
    "    Inferencial statistics: Infere the data that is unknown to us, for example, height of man in population got from a sample."
   ]
  },
  {
   "cell_type": "code",
   "execution_count": 329,
   "metadata": {},
   "outputs": [
    {
     "data": {
      "text/html": [
       "<center>\n",
       "<img src=\"https://image.slidesharecdn.com/descriptivestatistics-160426085200/95/descriptive-statistics-and-inferential-statistics-1-638.jpg?cb=1461660791\", width=550>\n",
       "</center>"
      ],
      "text/plain": [
       "<IPython.core.display.HTML object>"
      ]
     },
     "metadata": {},
     "output_type": "display_data"
    }
   ],
   "source": [
    "%%html inline\n",
    "<center>\n",
    "<img src=\"https://image.slidesharecdn.com/descriptivestatistics-160426085200/95/descriptive-statistics-and-inferential-statistics-1-638.jpg?cb=1461660791\", width=550>\n",
    "</center>"
   ]
  },
  {
   "cell_type": "code",
   "execution_count": 339,
   "metadata": {},
   "outputs": [
    {
     "data": {
      "text/html": [
       "<center>\n",
       "<img src=\"https://www.wellbeingatschool.org.nz/sites/default/files/W@S_boxplot-labels.png\", width=350>\n",
       "</center>"
      ],
      "text/plain": [
       "<IPython.core.display.HTML object>"
      ]
     },
     "metadata": {},
     "output_type": "display_data"
    }
   ],
   "source": [
    "%%html inline\n",
    "<center>\n",
    "<img src=\"https://www.wellbeingatschool.org.nz/sites/default/files/W@S_boxplot-labels.png\", width=350>\n",
    "</center>"
   ]
  },
  {
   "cell_type": "code",
   "execution_count": 330,
   "metadata": {},
   "outputs": [],
   "source": [
    "# Creating a Pandas DataFrame to analyze \n",
    "df = pd.DataFrame(dict(id=range(6), age = np.random.randint(18,31, size = 6)))"
   ]
  },
  {
   "cell_type": "code",
   "execution_count": 341,
   "metadata": {},
   "outputs": [
    {
     "data": {
      "text/html": [
       "<div>\n",
       "<style scoped>\n",
       "    .dataframe tbody tr th:only-of-type {\n",
       "        vertical-align: middle;\n",
       "    }\n",
       "\n",
       "    .dataframe tbody tr th {\n",
       "        vertical-align: top;\n",
       "    }\n",
       "\n",
       "    .dataframe thead th {\n",
       "        text-align: right;\n",
       "    }\n",
       "</style>\n",
       "<table border=\"1\" class=\"dataframe\">\n",
       "  <thead>\n",
       "    <tr style=\"text-align: right;\">\n",
       "      <th></th>\n",
       "      <th>age</th>\n",
       "      <th>id</th>\n",
       "    </tr>\n",
       "  </thead>\n",
       "  <tbody>\n",
       "    <tr>\n",
       "      <th>0</th>\n",
       "      <td>20</td>\n",
       "      <td>0</td>\n",
       "    </tr>\n",
       "    <tr>\n",
       "      <th>1</th>\n",
       "      <td>28</td>\n",
       "      <td>1</td>\n",
       "    </tr>\n",
       "    <tr>\n",
       "      <th>2</th>\n",
       "      <td>24</td>\n",
       "      <td>2</td>\n",
       "    </tr>\n",
       "    <tr>\n",
       "      <th>3</th>\n",
       "      <td>27</td>\n",
       "      <td>3</td>\n",
       "    </tr>\n",
       "    <tr>\n",
       "      <th>4</th>\n",
       "      <td>29</td>\n",
       "      <td>4</td>\n",
       "    </tr>\n",
       "  </tbody>\n",
       "</table>\n",
       "</div>"
      ],
      "text/plain": [
       "   age  id\n",
       "0   20   0\n",
       "1   28   1\n",
       "2   24   2\n",
       "3   27   3\n",
       "4   29   4"
      ]
     },
     "execution_count": 341,
     "metadata": {},
     "output_type": "execute_result"
    }
   ],
   "source": [
    "# Preview DataFrame \n",
    "df.head()"
   ]
  },
  {
   "cell_type": "code",
   "execution_count": 351,
   "metadata": {},
   "outputs": [
    {
     "name": "stdout",
     "output_type": "stream",
     "text": [
      "The MEAN for the age column in provided data is: 26.0\n",
      "The MEDIAN for the age column in provided data is: 27.5\n",
      "The MODE for the age column in provided data is: 28\n",
      "The RANGE for the age column in provided data is: 9\n",
      "The VARIANCE for the age column in provided data is: 9.666666666666666\n",
      "The STD DEV for the age column in provided data is: 3.1091263510296048\n",
      "The IQR for the age column in provided data is: 3.25\n"
     ]
    }
   ],
   "source": [
    "# Calculating indicators for provided data\n",
    "print(f'The MEAN for the age column in provided data is: {np.mean(df[\"age\"])}')\n",
    "print(f'The MEDIAN for the age column in provided data is: {np.median(df[\"age\"])}')\n",
    "print(f'The MODE for the age column in provided data is: {mode(df[\"age\"])}')\n",
    "print(f'The RANGE for the age column in provided data is: {np.max(df[\"age\"]) - np.min(df[\"age\"]) }')\n",
    "\n",
    "\n",
    "# Q1\n",
    "    # Q1\n",
    "    # first quartile\n",
    "    # lower quartile\n",
    "    # 25th percentile\n",
    "    # splits off the lowest 25% of data from the highest 75%\n",
    "Q1 = np.percentile(df[\"age\"], 25)\n",
    "\n",
    "# Q2\n",
    "    # second quartile\n",
    "    # median\n",
    "    # 50th percentile\n",
    "    # cuts data set in half\n",
    "Q2 = np.percentile(df[\"age\"], 50)\n",
    "\n",
    "# Q3\n",
    "    # third quartile\n",
    "    # upper quartile\n",
    "    # 75th percentile\n",
    "    # splits off the highest 25% of data from the lowest 75%\n",
    "Q3 = np.percentile(df[\"age\"], 75)\n",
    "\n",
    "print(f'The VARIANCE for the age column in provided data is: {np.var(df[\"age\"])}')\n",
    "print(f'The STD DEV for the age column in provided data is: {np.std(df[\"age\"])}')\n",
    "print(f'The IQR for the age column in provided data is: {Q3-Q1}')"
   ]
  },
  {
   "cell_type": "code",
   "execution_count": 352,
   "metadata": {},
   "outputs": [
    {
     "data": {
      "image/png": "[encoded data removed]",
      "text/plain": [
       "<matplotlib.figure.Figure at 0x117cde9b0>"
      ]
     },
     "metadata": {},
     "output_type": "display_data"
    }
   ],
   "source": [
    "_= df.boxplot(column = \"age\", return_type = 'axes')"
   ]
  },
  {
   "cell_type": "markdown",
   "metadata": {},
   "source": [
    "# Skewness\n",
    "    In probability theory and statistics, skewness is a measure of the asymmetry of the probability distribution of a real-valued random variable about its mean. The skewness value can be positive or negative, or undefined.\n",
    "    \n",
    "# Kurtosis\n",
    "    La curtosis de una variable estadística/aleatoria es una característica de forma de su distribución de frecuencias/probabilidad.\n",
    "\n",
    "    Según su concepción clásica, una curtosis grande implica una mayor concentración de valores de la variable tanto muy cerca de la media de la distribución (pico) como muy lejos de ella (colas), al tiempo que existe una relativamente menor frecuencia de valores intermedios. Esto explica una forma de la distribución de frecuencias/probabilidad con colas más gruesas, con un centro más apuntado y una menor proporción de valores intermedios entre el pico y colas."
   ]
  },
  {
   "cell_type": "code",
   "execution_count": 354,
   "metadata": {},
   "outputs": [
    {
     "data": {
      "text/html": [
       "<center>\n",
       "<img src=\"https://upload.wikimedia.org/wikipedia/commons/thumb/f/f8/Negative_and_positive_skew_diagrams_%28English%29.svg/892px-Negative_and_positive_skew_diagrams_%28English%29.svg.png\", width=550>\n",
       "<img src=\"https://i.stack.imgur.com/KBQLN.jpg\", width=550>\n",
       "</center>\n"
      ],
      "text/plain": [
       "<IPython.core.display.HTML object>"
      ]
     },
     "metadata": {},
     "output_type": "display_data"
    }
   ],
   "source": [
    "# Measurements of info distribution from the mean \n",
    "%%html inline\n",
    "<center>\n",
    "<img src=\"https://upload.wikimedia.org/wikipedia/commons/thumb/f/f8/Negative_and_positive_skew_diagrams_%28English%29.svg/892px-Negative_and_positive_skew_diagrams_%28English%29.svg.png\", width=550>\n",
    "<img src=\"https://i.stack.imgur.com/KBQLN.jpg\", width=550>\n",
    "</center>"
   ]
  },
  {
   "cell_type": "code",
   "execution_count": 356,
   "metadata": {},
   "outputs": [
    {
     "name": "stdout",
     "output_type": "stream",
     "text": [
      "The SKEWENESS for the age column in provided data is: -1.3668056833531892\n",
      "The KURTOIS for the age column in provided data is: 1.1682520808561234\n"
     ]
    }
   ],
   "source": [
    "swekeness = df[\"age\"].skew()\n",
    "kurtosis = df[\"age\"].kurt()\n",
    "\n",
    "print(f'The SKEWENESS for the age column in provided data is: {swekeness}')\n",
    "print(f'The KURTOIS for the age column in provided data is: {kurtosis}')"
   ]
  },
  {
   "cell_type": "markdown",
   "metadata": {},
   "source": [
    "# Statistics with Python: Inferencial Statistics\n",
    "    Inferencial statistics: Infers properties of population, for example, by testing hypothesis and deriving estimates.\n",
    "    \n",
    "    Inferencial statistics: Infere the data that is unknown to us, for example, height of man in population got from a sample."
   ]
  },
  {
   "cell_type": "code",
   "execution_count": null,
   "metadata": {},
   "outputs": [],
   "source": [
    "# Lets take random subsets of samples from population data\n",
    "np.random.seed(10)\n",
    "\n",
    "estimates = \n"
   ]
  }
 ],
 "metadata": {
  "kernelspec": {
   "display_name": "Python 3",
   "language": "python",
   "name": "python3"
  },
  "language_info": {
   "codemirror_mode": {
    "name": "ipython",
    "version": 3
   },
   "file_extension": ".py",
   "mimetype": "text/x-python",
   "name": "python",
   "nbconvert_exporter": "python",
   "pygments_lexer": "ipython3",
   "version": "3.6.8"
  }
 },
 "nbformat": 4,
 "nbformat_minor": 2
}
