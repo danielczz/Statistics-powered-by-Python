{
 "cells": [
  {
   "cell_type": "markdown",
   "metadata": {},
   "source": [
    "# Averages and measures of central tendency\n",
    "link: https://en.wikipedia.org/wiki/Central_tendency\n",
    "\n",
    "The most common measures of central tendency are the **arithmetic mean, the median and the mode**. A central tendency can be calculated for either a finite set of values or for a theoretical distribution, such as the normal distribution. Occasionally authors use central tendency to denote \"the tendency of quantitative data to cluster around some central value.\""
   ]
  },
  {
   "cell_type": "code",
   "execution_count": 23,
   "metadata": {},
   "outputs": [],
   "source": [
    "# Import dependencies\n",
    "import numpy as np\n",
    "import pandas as pd\n",
    "import matplotlib.pyplot as plt\n",
    "%matplotlib inline"
   ]
  },
  {
   "cell_type": "code",
   "execution_count": 24,
   "metadata": {},
   "outputs": [
    {
     "name": "stdout",
     "output_type": "stream",
     "text": [
      "[9 9 7 9 7 8 9 7 8 7 7 9 9 9 7 7 7 8 9 7]\n"
     ]
    }
   ],
   "source": [
    "# Create a random number list of integer values \n",
    "data_array = np.random.randint(7, 10, 20)\n",
    "print(data_array)"
   ]
  },
  {
   "cell_type": "markdown",
   "metadata": {},
   "source": [
    "## Mean: \n",
    "\n",
    "link: https://en.wikipedia.org/wiki/Arithmetic_mean\n",
    "\n",
    "For a data set, the arithmetic mean, also called the mathematical expectation or average, is the **central value of a discrete set of numbers:** specifically, the sum of the values divided by the number of values. \n",
    "\n",
    "<img src=\"images/static/Comparison_mean_median_mode.png\",width=350, height=350>"
   ]
  },
  {
   "cell_type": "code",
   "execution_count": 25,
   "metadata": {
    "scrolled": true
   },
   "outputs": [
    {
     "name": "stdout",
     "output_type": "stream",
     "text": [
      "7.95\n",
      "The MEAN for the provided ORIGINAL DATA is: 7.95\n"
     ]
    }
   ],
   "source": [
    "# Calculate the mean \n",
    "print(np.mean(data_array))\n",
    "print(f'The MEAN for the provided ORIGINAL DATA is: {np.mean(data_array)}')"
   ]
  },
  {
   "cell_type": "markdown",
   "metadata": {},
   "source": [
    "## Median: \n",
    "link: https://en.wikipedia.org/wiki/Median\n",
    "\n",
    "The median is the **value separating the higher half from the lower half of a data sample** (a population or a probability distribution). For a data set, it may be thought of as the \"middle\" value. \n",
    "\n",
    "<img src=\"images/static/Finding_the_median.png\",width=350, height=350>"
   ]
  },
  {
   "cell_type": "code",
   "execution_count": 26,
   "metadata": {},
   "outputs": [
    {
     "name": "stdout",
     "output_type": "stream",
     "text": [
      "8.0\n",
      "The MEDIAN for the provided ORIGINAL DATA is: 8.0\n"
     ]
    }
   ],
   "source": [
    "# Calculate the mediam \n",
    "print(np.median(data_array))\n",
    "print(f'The MEDIAN for the provided ORIGINAL DATA is: {np.median(data_array)}')"
   ]
  },
  {
   "cell_type": "markdown",
   "metadata": {},
   "source": [
    "## Mode: \n",
    "link: https://en.wikipedia.org/wiki/Mode_(statistics)\n",
    "\n",
    "**Most frequent value** in the dataset. \n",
    "\n",
    "<img src=\"images/static/Visualisation_mode_median_mean.png\",width=200, height=200>"
   ]
  },
  {
   "cell_type": "code",
   "execution_count": 27,
   "metadata": {},
   "outputs": [],
   "source": [
    "# Calculate the mode \n",
    "# Import additional library for mode \n",
    "from statistics import mode"
   ]
  },
  {
   "cell_type": "code",
   "execution_count": 28,
   "metadata": {},
   "outputs": [
    {
     "name": "stdout",
     "output_type": "stream",
     "text": [
      "7\n",
      "The MODE for the provided ORIGINAL DATA is: 7\n"
     ]
    }
   ],
   "source": [
    "print(mode(data_array))\n",
    "print(f'The MODE for the provided ORIGINAL DATA is: {mode(data_array)}')"
   ]
  },
  {
   "cell_type": "markdown",
   "metadata": {},
   "source": [
    "## Population: \n",
    "**Total** observation of the data.\n",
    "    \n",
    "## Sample: \n",
    "**Subset** of population that describes population that we will be able to draw conclusions.\n",
    "\n",
    "<img src=\"images/static/pop-sample.png\",width=350, height=350>"
   ]
  },
  {
   "cell_type": "code",
   "execution_count": 29,
   "metadata": {},
   "outputs": [],
   "source": [
    "# Defining data for population \n",
    "population = np.random.randint(10,20,100)"
   ]
  },
  {
   "cell_type": "code",
   "execution_count": 30,
   "metadata": {},
   "outputs": [
    {
     "name": "stdout",
     "output_type": "stream",
     "text": [
      "14.6\n",
      "14.0\n",
      "The MEAN for the provided SAMPLE DATA is: 14.6\n",
      "The MEDIAN for the provided SAMPLE DATA is: 14.0\n"
     ]
    }
   ],
   "source": [
    "# Calculate and print mean, median and mode for the whole population\n",
    "print(np.mean(population))\n",
    "print(np.median(population))\n",
    "# print(mode(population))\n",
    "\n",
    "print(f'The MEAN for the provided SAMPLE DATA is: {np.mean(population)}')\n",
    "print(f'The MEDIAN for the provided SAMPLE DATA is: {np.median(population)}')\n",
    "# print(f'The MODE for the provided SAMPLE DATA is: {mode(population)}')"
   ]
  },
  {
   "cell_type": "code",
   "execution_count": 31,
   "metadata": {},
   "outputs": [],
   "source": [
    "# Creating a subset of population data\n",
    "sample = np.random.choice(population, 30)"
   ]
  },
  {
   "cell_type": "code",
   "execution_count": 32,
   "metadata": {},
   "outputs": [
    {
     "name": "stdout",
     "output_type": "stream",
     "text": [
      "13.733333333333333\n",
      "13.5\n",
      "The MEAN for the provided SAMPLE DATA is: 13.733333333333333\n",
      "The MEDIAN for the provided SAMPLE DATA is: 13.5\n"
     ]
    }
   ],
   "source": [
    "# Calculate and print mean, median and mode for the subset of data\n",
    "print(np.mean(sample))\n",
    "print(np.median(sample))\n",
    "# print(mode(sample))\n",
    "\n",
    "print(f'The MEAN for the provided SAMPLE DATA is: {np.mean(sample)}')\n",
    "print(f'The MEDIAN for the provided SAMPLE DATA is: {np.median(sample)}')\n",
    "# print(f'The MODE for the provided SAMPLE DATA is: {mode(sample)}')"
   ]
  },
  {
   "cell_type": "code",
   "execution_count": 33,
   "metadata": {},
   "outputs": [],
   "source": [
    "# Creating several subset of data (random samples)\n",
    "sample_1 = np.random.choice(population, 20)\n",
    "sample_2 = np.random.choice(population, 20)\n",
    "sample_3 = np.random.choice(population, 20)\n",
    "sample_4 = np.random.choice(population, 20)\n",
    "sample_5 = np.random.choice(population, 20)\n",
    "sample_6 = np.random.choice(population, 20)\n",
    "sample_7 = np.random.choice(population, 20)\n",
    "sample_8 = np.random.choice(population, 20)\n",
    "\n",
    "# Getting all samples in a dictionary\n",
    "all_samples = [sample, sample_1, sample_2, sample_3, sample_4, sample_5, sample_6, sample_7, sample_8]\n",
    "\n",
    "# Creating an empty array to store mean values from the sample\n",
    "sample_mean = []"
   ]
  },
  {
   "cell_type": "code",
   "execution_count": 34,
   "metadata": {},
   "outputs": [
    {
     "name": "stdout",
     "output_type": "stream",
     "text": [
      "13.733333333333333\n",
      "15.55\n",
      "13.8\n",
      "14.35\n",
      "14.4\n",
      "14.0\n",
      "14.3\n",
      "15.4\n",
      "13.8\n"
     ]
    }
   ],
   "source": [
    "# For loop to iterate and get all mean values \n",
    "for i in all_samples:\n",
    "    sample_mean.append(np.mean(i))\n",
    "    print(np.mean(i))"
   ]
  },
  {
   "cell_type": "code",
   "execution_count": 35,
   "metadata": {},
   "outputs": [
    {
     "name": "stdout",
     "output_type": "stream",
     "text": [
      "14.370370370370372\n",
      "The MEAN for the provided SAMPLE DATA is: 14.370370370370372\n"
     ]
    }
   ],
   "source": [
    "# Find the mean of all the samples together \n",
    "print(np.mean(sample_mean))\n",
    "print(f'The MEAN for the provided SAMPLE DATA is: {np.mean(sample_mean)}')"
   ]
  },
  {
   "cell_type": "code",
   "execution_count": 36,
   "metadata": {},
   "outputs": [
    {
     "name": "stdout",
     "output_type": "stream",
     "text": [
      "14.6\n",
      "The MEAN for the provided ORIGINAL DATA is: 14.6\n",
      "*************\n",
      "*************\n",
      "CONCLUSIONS:\n",
      "We can conclude that the mean of the population and the samples are coming close.\n",
      "*************\n",
      "*************\n"
     ]
    }
   ],
   "source": [
    "# Find the mean of the original data called population \n",
    "print(np.mean(population))\n",
    "print(f'The MEAN for the provided ORIGINAL DATA is: {np.mean(population)}')\n",
    "\n",
    "\n",
    "# Conclusions:\n",
    "print(\"*************\")\n",
    "print(\"*************\")\n",
    "print(\"CONCLUSIONS:\") \n",
    "print(\"We can conclude that the mean of the population and the samples are coming close.\")\n",
    "print(\"*************\")\n",
    "print(\"*************\")"
   ]
  },
  {
   "cell_type": "markdown",
   "metadata": {},
   "source": [
    "## Measure of spreads: \n",
    "The variability of the data and **how the data is distributed**.\n",
    "<br><br>Measure of spreads main categories:\n",
    "\n",
    "1. **Range**\n",
    "1. **Quartile**\n",
    "1. **Variance**\n",
    "1. **Standard deviation**"
   ]
  },
  {
   "cell_type": "markdown",
   "metadata": {},
   "source": [
    "## Range: \n",
    "The **difference between the lowest and highest values** detected on data.\n",
    "<img src=\"images/static/range.svg\",width=350, height=350>"
   ]
  },
  {
   "cell_type": "code",
   "execution_count": 37,
   "metadata": {},
   "outputs": [
    {
     "name": "stdout",
     "output_type": "stream",
     "text": [
      "[-1.28879876 -0.25844767 -0.414183    1.39946516  1.15136839 -0.57942381\n",
      "  0.40796286 -1.07471273  0.48853291]\n"
     ]
    }
   ],
   "source": [
    "# Lets make an example of Range\n",
    "n = np.random.randn(9)\n",
    "print(n)"
   ]
  },
  {
   "cell_type": "code",
   "execution_count": 38,
   "metadata": {},
   "outputs": [
    {
     "name": "stdout",
     "output_type": "stream",
     "text": [
      "2.688263924257339\n",
      "The RANGE for the provided data is: 2.688263924257339\n"
     ]
    }
   ],
   "source": [
    "# Calculating Range for provided data\n",
    "print(np.max(n)-np.min(n))\n",
    "print(f'The RANGE for the provided data is: {np.max(n)-np.min(n)}')"
   ]
  },
  {
   "cell_type": "markdown",
   "metadata": {},
   "source": [
    "## Quartiles and Percentiles: \n",
    "link: https://en.wikipedia.org/wiki/Quartile\n",
    "\n",
    "The quartiles of a ranked set of data values are the **four subsets whose boundaries are the three quartile points.** Thus an individual item might be described as being \"on the upper quartile\".\n",
    "    \n",
    "A quartile is a type of quantile:<br> \n",
    "- The **first quartile (Q1)** is defined as the middle number between the smallest number and the median of the data set.\n",
    "- The **second quartile (Q2)** is the median of the data.\n",
    "- The **third quartile (Q3)** is the middle value between the median and the highest value of the data set.\n",
    "\n",
    "<img src=\"images/static/Boxplot_vs_PDF.png\",width=350, height=350>"
   ]
  },
  {
   "cell_type": "code",
   "execution_count": 39,
   "metadata": {},
   "outputs": [],
   "source": [
    "# Q1\n",
    "    # Q1\n",
    "    # first quartile\n",
    "    # lower quartile\n",
    "    # 25th percentile\n",
    "    # splits off the lowest 25% of data from the highest 75%\n",
    "Q1 = np.percentile(n, 25)\n",
    "\n",
    "# Q2\n",
    "    # second quartile\n",
    "    # median\n",
    "    # 50th percentile\n",
    "    # cuts data set in half\n",
    "Q2 = np.percentile(n, 50)\n",
    "\n",
    "# Q3\n",
    "    # third quartile\n",
    "    # upper quartile\n",
    "    # 75th percentile\n",
    "    # splits off the highest 25% of data from the lowest 75%\n",
    "Q3 = np.percentile(n, 75)"
   ]
  },
  {
   "cell_type": "code",
   "execution_count": 40,
   "metadata": {},
   "outputs": [],
   "source": [
    "# IQR\n",
    "# In descriptive statistics, the interquartile range (IQR), \n",
    "# also called the midspread or middle 50%, or technically H-spread, \n",
    "# is a measure of statistical dispersion, being equal to the difference \n",
    "# between 75th and 25th percentiles, or between upper and lower quartiles:\n",
    "# IQR = Q3 −  Q1. \n",
    "\n",
    "IQR = Q3 - Q1"
   ]
  },
  {
   "cell_type": "code",
   "execution_count": 41,
   "metadata": {},
   "outputs": [
    {
     "name": "stdout",
     "output_type": "stream",
     "text": [
      "1.0679567204298175\n"
     ]
    }
   ],
   "source": [
    "print(IQR)"
   ]
  },
  {
   "cell_type": "markdown",
   "metadata": {},
   "source": [
    "## Variance: \n",
    "Informally, it measures **how far a set of numbers are spread out from their average value(mean)**.\n",
    "\n",
    "<img src=\"images/static/Comparison_standard_deviations.png\",width=350, height=350>"
   ]
  },
  {
   "cell_type": "code",
   "execution_count": 42,
   "metadata": {},
   "outputs": [
    {
     "name": "stdout",
     "output_type": "stream",
     "text": [
      "7.800000000000001\n",
      "5.262222222222222\n"
     ]
    }
   ],
   "source": [
    "# Getting variance from population and sample from before\n",
    "print(np.var(population))\n",
    "print(np.var(sample))\n",
    "\n",
    "# Both variances are different"
   ]
  },
  {
   "cell_type": "markdown",
   "metadata": {},
   "source": [
    "## Standard deviation: \n",
    "link: https://en.wikipedia.org/wiki/Standard_deviation\n",
    "\n",
    "In statistics, the standard deviation (SD, also represented by the lower case Greek letter sigma σ or the Latin letter s) is a measure that is used to quantify the amount of variation or dispersion of a set of data values.\n",
    "\n",
    "- A **low standard deviation** indicates that the data points tend to be close to the mean (also called the expected value) of the set.\n",
    "- A **high standard deviation** indicates that the data points are spread out over a wider range of values.\n",
    "\n",
    "<img src=\"images/static/Standard_deviation_diagram.png\",width=350, height=350>"
   ]
  },
  {
   "cell_type": "code",
   "execution_count": 43,
   "metadata": {},
   "outputs": [
    {
     "name": "stdout",
     "output_type": "stream",
     "text": [
      "2.7928480087537886\n",
      "2.2939534045447005\n"
     ]
    }
   ],
   "source": [
    "# Getting variance from population and sample from before\n",
    "print(np.std(population))\n",
    "print(np.std(sample))"
   ]
  },
  {
   "cell_type": "code",
   "execution_count": 44,
   "metadata": {},
   "outputs": [
    {
     "name": "stdout",
     "output_type": "stream",
     "text": [
      "*************\n",
      "*************\n",
      "CONCLUSIONS:\n",
      "Both standard deviations are pretty close in population and sample.\n",
      "*************\n",
      "*************\n"
     ]
    }
   ],
   "source": [
    "# Conclusions:\n",
    "print(\"*************\")\n",
    "print(\"*************\")\n",
    "print(\"CONCLUSIONS:\") \n",
    "print(\"Both standard deviations are pretty close in population and sample.\")\n",
    "print(\"*************\")\n",
    "print(\"*************\")"
   ]
  }
 ],
 "metadata": {
  "kernelspec": {
   "display_name": "Python 3",
   "language": "python",
   "name": "python3"
  },
  "language_info": {
   "codemirror_mode": {
    "name": "ipython",
    "version": 3
   },
   "file_extension": ".py",
   "mimetype": "text/x-python",
   "name": "python",
   "nbconvert_exporter": "python",
   "pygments_lexer": "ipython3",
   "version": "3.6.8"
  },
  "toc": {
   "base_numbering": 1,
   "nav_menu": {},
   "number_sections": true,
   "sideBar": true,
   "skip_h1_title": false,
   "title_cell": "Table of Contents",
   "title_sidebar": "Contents",
   "toc_cell": false,
   "toc_position": {
    "height": "calc(100% - 180px)",
    "left": "10px",
    "top": "150px",
    "width": "333px"
   },
   "toc_section_display": true,
   "toc_window_display": true
  }
 },
 "nbformat": 4,
 "nbformat_minor": 2
}
