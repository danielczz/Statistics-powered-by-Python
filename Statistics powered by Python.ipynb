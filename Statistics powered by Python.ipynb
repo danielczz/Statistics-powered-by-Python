{
 "cells": [
  {
   "cell_type": "markdown",
   "metadata": {},
   "source": [
    "# Statistics powered by Python\n"
   ]
  },
  {
   "cell_type": "markdown",
   "metadata": {},
   "source": [
    "## Measures of central tendency\n",
    "link: https://en.wikipedia.org/wiki/Central_tendency\n",
    "\n",
    "The most common measures of central tendency are the **arithmetic mean, the median and the mode**. A central tendency can be calculated for either a finite set of values or for a theoretical distribution, such as the normal distribution. Occasionally authors use central tendency to denote \"the tendency of quantitative data to cluster around some central value.\""
   ]
  },
  {
   "cell_type": "code",
   "execution_count": 1,
   "metadata": {},
   "outputs": [],
   "source": [
    "# Import dependencies\n",
    "import numpy as np\n",
    "import pandas as pd\n",
    "import matplotlib.pyplot as plt\n",
    "%matplotlib inline"
   ]
  },
  {
   "cell_type": "code",
   "execution_count": 2,
   "metadata": {},
   "outputs": [
    {
     "name": "stdout",
     "output_type": "stream",
     "text": [
      "[9 7 9 8 8 9 9 9 9 7 9 7 8 9 8 8 7 7 7 7]\n"
     ]
    }
   ],
   "source": [
    "# Create a random number list of integer values \n",
    "data_array = np.random.randint(7, 10, 20)\n",
    "print(data_array)"
   ]
  },
  {
   "cell_type": "markdown",
   "metadata": {},
   "source": [
    "## Mean: \n",
    "\n",
    "link: https://en.wikipedia.org/wiki/Arithmetic_mean\n",
    "\n",
    "For a data set, the arithmetic mean, also called the mathematical expectation or average, is the **central value of a discrete set of numbers:** specifically, the sum of the values divided by the number of values. \n",
    "\n",
    "<img src=\"images/Comparison_mean_median_mode.png\",width=350, height=350>"
   ]
  },
  {
   "cell_type": "code",
   "execution_count": 3,
   "metadata": {
    "scrolled": true
   },
   "outputs": [
    {
     "name": "stdout",
     "output_type": "stream",
     "text": [
      "8.05\n",
      "The MEAN for the provided ORIGINAL DATA is: 8.05\n"
     ]
    }
   ],
   "source": [
    "# Calculate the mean \n",
    "print(np.mean(data_array))\n",
    "print(f'The MEAN for the provided ORIGINAL DATA is: {np.mean(data_array)}')"
   ]
  },
  {
   "cell_type": "markdown",
   "metadata": {},
   "source": [
    "## Median: \n",
    "link: https://en.wikipedia.org/wiki/Median\n",
    "\n",
    "The median is the **value separating the higher half from the lower half of a data sample** (a population or a probability distribution). For a data set, it may be thought of as the \"middle\" value. \n",
    "\n",
    "<img src=\"images/Finding_the_median.png\",width=350, height=350>"
   ]
  },
  {
   "cell_type": "code",
   "execution_count": 4,
   "metadata": {},
   "outputs": [
    {
     "name": "stdout",
     "output_type": "stream",
     "text": [
      "8.0\n",
      "The MEDIAN for the provided ORIGINAL DATA is: 8.0\n"
     ]
    }
   ],
   "source": [
    "# Calculate the mediam \n",
    "print(np.median(data_array))\n",
    "print(f'The MEDIAN for the provided ORIGINAL DATA is: {np.median(data_array)}')"
   ]
  },
  {
   "cell_type": "markdown",
   "metadata": {},
   "source": [
    "## Mode: \n",
    "link: https://en.wikipedia.org/wiki/Mode_(statistics)\n",
    "\n",
    "**Most frequent value** in the dataset. \n",
    "\n",
    "<img src=\"images/Visualisation_mode_median_mean.png\",width=200, height=200>"
   ]
  },
  {
   "cell_type": "code",
   "execution_count": 5,
   "metadata": {},
   "outputs": [],
   "source": [
    "# Calculate the mode \n",
    "# Import additional library for mode \n",
    "from statistics import mode"
   ]
  },
  {
   "cell_type": "code",
   "execution_count": 6,
   "metadata": {},
   "outputs": [
    {
     "name": "stdout",
     "output_type": "stream",
     "text": [
      "9\n",
      "The MODE for the provided ORIGINAL DATA is: 9\n"
     ]
    }
   ],
   "source": [
    "print(mode(data_array))\n",
    "print(f'The MODE for the provided ORIGINAL DATA is: {mode(data_array)}')"
   ]
  },
  {
   "cell_type": "markdown",
   "metadata": {},
   "source": [
    "## Population: \n",
    "**Total** observation of the data.\n",
    "    \n",
    "## Sample: \n",
    "**Subset** of population that describes population that we will be able to draw conclusions.\n",
    "\n",
    "<img src=\"images/pop-sample.png\",width=350, height=350>"
   ]
  },
  {
   "cell_type": "code",
   "execution_count": 7,
   "metadata": {},
   "outputs": [],
   "source": [
    "# Defining data for population \n",
    "population = np.random.randint(10,20,100)"
   ]
  },
  {
   "cell_type": "code",
   "execution_count": 19,
   "metadata": {},
   "outputs": [
    {
     "name": "stdout",
     "output_type": "stream",
     "text": [
      "14.53\n",
      "15.0\n",
      "The MEAN for the provided SAMPLE DATA is: 14.53\n",
      "The MEDIAN for the provided SAMPLE DATA is: 15.0\n"
     ]
    }
   ],
   "source": [
    "# Calculate and print mean, median and mode for the whole population\n",
    "print(np.mean(population))\n",
    "print(np.median(population))\n",
    "# print(mode(population))\n",
    "\n",
    "print(f'The MEAN for the provided SAMPLE DATA is: {np.mean(population)}')\n",
    "print(f'The MEDIAN for the provided SAMPLE DATA is: {np.median(population)}')\n",
    "# print(f'The MODE for the provided SAMPLE DATA is: {mode(population)}')"
   ]
  },
  {
   "cell_type": "code",
   "execution_count": 20,
   "metadata": {},
   "outputs": [],
   "source": [
    "# Creating a subset of population data\n",
    "sample = np.random.choice(population, 30)"
   ]
  },
  {
   "cell_type": "code",
   "execution_count": 21,
   "metadata": {},
   "outputs": [
    {
     "name": "stdout",
     "output_type": "stream",
     "text": [
      "13.666666666666666\n",
      "13.5\n",
      "The MEAN for the provided SAMPLE DATA is: 13.666666666666666\n",
      "The MEDIAN for the provided SAMPLE DATA is: 13.5\n"
     ]
    }
   ],
   "source": [
    "# Calculate and print mean, median and mode for the subset of data\n",
    "print(np.mean(sample))\n",
    "print(np.median(sample))\n",
    "# print(mode(sample))\n",
    "\n",
    "print(f'The MEAN for the provided SAMPLE DATA is: {np.mean(sample)}')\n",
    "print(f'The MEDIAN for the provided SAMPLE DATA is: {np.median(sample)}')\n",
    "# print(f'The MODE for the provided SAMPLE DATA is: {mode(sample)}')"
   ]
  },
  {
   "cell_type": "code",
   "execution_count": 22,
   "metadata": {},
   "outputs": [],
   "source": [
    "# Creating several subset of data (random samples)\n",
    "sample_1 = np.random.choice(population, 20)\n",
    "sample_2 = np.random.choice(population, 20)\n",
    "sample_3 = np.random.choice(population, 20)\n",
    "sample_4 = np.random.choice(population, 20)\n",
    "sample_5 = np.random.choice(population, 20)\n",
    "sample_6 = np.random.choice(population, 20)\n",
    "sample_7 = np.random.choice(population, 20)\n",
    "sample_8 = np.random.choice(population, 20)\n",
    "\n",
    "# Getting all samples in a dictionary\n",
    "all_samples = [sample, sample_1, sample_2, sample_3, sample_4, sample_5, sample_6, sample_7, sample_8]\n",
    "\n",
    "# Creating an empty array to store mean values from the sample\n",
    "sample_mean = []"
   ]
  },
  {
   "cell_type": "code",
   "execution_count": 23,
   "metadata": {},
   "outputs": [
    {
     "name": "stdout",
     "output_type": "stream",
     "text": [
      "13.666666666666666\n",
      "14.6\n",
      "15.05\n",
      "14.9\n",
      "14.3\n",
      "14.5\n",
      "14.4\n",
      "14.5\n",
      "14.85\n"
     ]
    }
   ],
   "source": [
    "# For loop to iterate and get all mean values \n",
    "for i in all_samples:\n",
    "    sample_mean.append(np.mean(i))\n",
    "    print(np.mean(i))"
   ]
  },
  {
   "cell_type": "code",
   "execution_count": 24,
   "metadata": {},
   "outputs": [
    {
     "name": "stdout",
     "output_type": "stream",
     "text": [
      "14.529629629629632\n",
      "The MEAN for the provided SAMPLE DATA is: 14.529629629629632\n"
     ]
    }
   ],
   "source": [
    "# Find the mean of all the samples together \n",
    "print(np.mean(sample_mean))\n",
    "print(f'The MEAN for the provided SAMPLE DATA is: {np.mean(sample_mean)}')"
   ]
  },
  {
   "cell_type": "code",
   "execution_count": 25,
   "metadata": {},
   "outputs": [
    {
     "name": "stdout",
     "output_type": "stream",
     "text": [
      "14.53\n",
      "The MEAN for the provided ORIGINAL DATA is: 14.53\n",
      "*************\n",
      "*************\n",
      "CONCLUSIONS:\n",
      "We can conclude that the mean of the population and the samples are coming close.\n",
      "*************\n",
      "*************\n"
     ]
    }
   ],
   "source": [
    "# Find the mean of the original data called population \n",
    "print(np.mean(population))\n",
    "print(f'The MEAN for the provided ORIGINAL DATA is: {np.mean(population)}')\n",
    "\n",
    "\n",
    "# Conclusions:\n",
    "print(\"*************\")\n",
    "print(\"*************\")\n",
    "print(\"CONCLUSIONS:\") \n",
    "print(\"We can conclude that the mean of the population and the samples are coming close.\")\n",
    "print(\"*************\")\n",
    "print(\"*************\")"
   ]
  },
  {
   "cell_type": "markdown",
   "metadata": {},
   "source": [
    "## Measure of spreads\n",
    "The variability of the data and **how the data is distributed**.\n",
    "<br><br>Measure of spreads main categories:\n",
    "\n",
    "1. **Range**\n",
    "1. **Quartile**\n",
    "1. **Variance**\n",
    "1. **Standard deviation**"
   ]
  },
  {
   "cell_type": "markdown",
   "metadata": {},
   "source": [
    "## Range: \n",
    "The **difference between the lowest and highest values** detected on data.\n",
    "<img src=\"images/range.svg\",width=350, height=350>"
   ]
  },
  {
   "cell_type": "code",
   "execution_count": 26,
   "metadata": {},
   "outputs": [
    {
     "name": "stdout",
     "output_type": "stream",
     "text": [
      "[-0.86963846 -0.6820768   1.34882083  0.54246575 -0.42296569  0.80044681\n",
      " -1.65789453  0.13706623  0.05167803]\n"
     ]
    }
   ],
   "source": [
    "# Lets make an example of Range\n",
    "n = np.random.randn(9)\n",
    "print(n)"
   ]
  },
  {
   "cell_type": "code",
   "execution_count": 27,
   "metadata": {},
   "outputs": [
    {
     "name": "stdout",
     "output_type": "stream",
     "text": [
      "3.006715365224564\n",
      "The RANGE for the provided data is: 3.006715365224564\n"
     ]
    }
   ],
   "source": [
    "# Calculating Range for provided data\n",
    "print(np.max(n)-np.min(n))\n",
    "print(f'The RANGE for the provided data is: {np.max(n)-np.min(n)}')"
   ]
  },
  {
   "cell_type": "markdown",
   "metadata": {},
   "source": [
    "## Quartiles and Percentiles: \n",
    "link: https://en.wikipedia.org/wiki/Quartile\n",
    "\n",
    "The quartiles of a ranked set of data values are the **four subsets whose boundaries are the three quartile points.** Thus an individual item might be described as being \"on the upper quartile\".\n",
    "    \n",
    "A quartile is a type of quantile:<br> \n",
    "- The **first quartile (Q1)** is defined as the middle number between the smallest number and the median of the data set.\n",
    "- The **second quartile (Q2)** is the median of the data.\n",
    "- The **third quartile (Q3)** is the middle value between the median and the highest value of the data set.\n",
    "\n",
    "<img src=\"images/Boxplot_vs_PDF.png\",width=350, height=350>"
   ]
  },
  {
   "cell_type": "code",
   "execution_count": 28,
   "metadata": {},
   "outputs": [],
   "source": [
    "# Q1\n",
    "    # Q1\n",
    "    # first quartile\n",
    "    # lower quartile\n",
    "    # 25th percentile\n",
    "    # splits off the lowest 25% of data from the highest 75%\n",
    "Q1 = np.percentile(n, 25)\n",
    "\n",
    "# Q2\n",
    "    # second quartile\n",
    "    # median\n",
    "    # 50th percentile\n",
    "    # cuts data set in half\n",
    "Q2 = np.percentile(n, 50)\n",
    "\n",
    "# Q3\n",
    "    # third quartile\n",
    "    # upper quartile\n",
    "    # 75th percentile\n",
    "    # splits off the highest 25% of data from the lowest 75%\n",
    "Q3 = np.percentile(n, 75)"
   ]
  },
  {
   "cell_type": "code",
   "execution_count": 29,
   "metadata": {},
   "outputs": [],
   "source": [
    "# IQR\n",
    "# In descriptive statistics, the interquartile range (IQR), \n",
    "# also called the midspread or middle 50%, or technically H-spread, \n",
    "# is a measure of statistical dispersion, being equal to the difference \n",
    "# between 75th and 25th percentiles, or between upper and lower quartiles:\n",
    "# IQR = Q3 −  Q1. \n",
    "\n",
    "IQR = Q3 - Q1"
   ]
  },
  {
   "cell_type": "code",
   "execution_count": 30,
   "metadata": {},
   "outputs": [
    {
     "name": "stdout",
     "output_type": "stream",
     "text": [
      "1.2245425527176694\n"
     ]
    }
   ],
   "source": [
    "print(IQR)"
   ]
  },
  {
   "cell_type": "markdown",
   "metadata": {},
   "source": [
    "## Variance: \n",
    "Informally, it measures **how far a set of numbers are spread out from their average value(mean)**.\n",
    "\n",
    "<img src=\"images/Comparison_standard_deviations.png\",width=350, height=350>"
   ]
  },
  {
   "cell_type": "code",
   "execution_count": 31,
   "metadata": {},
   "outputs": [
    {
     "name": "stdout",
     "output_type": "stream",
     "text": [
      "7.069100000000001\n",
      "6.622222222222222\n"
     ]
    }
   ],
   "source": [
    "# Getting variance from population and sample from before\n",
    "print(np.var(population))\n",
    "print(np.var(sample))\n",
    "\n",
    "# Both variances are different"
   ]
  },
  {
   "cell_type": "markdown",
   "metadata": {},
   "source": [
    "# Standard deviation: \n",
    "link: https://en.wikipedia.org/wiki/Standard_deviation\n",
    "\n",
    "In statistics, the standard deviation (SD, also represented by the lower case Greek letter sigma σ or the Latin letter s) is a measure that is used to quantify the amount of variation or dispersion of a set of data values.\n",
    "\n",
    "- A **low standard deviation** indicates that the data points tend to be close to the mean (also called the expected value) of the set.\n",
    "- A **high standard deviation** indicates that the data points are spread out over a wider range of values.\n",
    "\n",
    "<img src=\"images/Standard_deviation_diagram.png\",width=350, height=350>"
   ]
  },
  {
   "cell_type": "code",
   "execution_count": 32,
   "metadata": {},
   "outputs": [
    {
     "name": "stdout",
     "output_type": "stream",
     "text": [
      "2.6587779147570787\n",
      "2.573367875415838\n"
     ]
    }
   ],
   "source": [
    "# Getting variance from population and sample from before\n",
    "print(np.std(population))\n",
    "print(np.std(sample))"
   ]
  },
  {
   "cell_type": "code",
   "execution_count": 33,
   "metadata": {},
   "outputs": [
    {
     "name": "stdout",
     "output_type": "stream",
     "text": [
      "*************\n",
      "*************\n",
      "CONCLUSIONS:\n",
      "Both standard deviations are pretty close in population and sample.\n",
      "*************\n",
      "*************\n"
     ]
    }
   ],
   "source": [
    "# Conclusions:\n",
    "print(\"*************\")\n",
    "print(\"*************\")\n",
    "print(\"CONCLUSIONS:\") \n",
    "print(\"Both standard deviations are pretty close in population and sample.\")\n",
    "print(\"*************\")\n",
    "print(\"*************\")"
   ]
  },
  {
   "cell_type": "markdown",
   "metadata": {},
   "source": [
    "## Descriptive and Inferencial Statistics: \n",
    "- **Descriptive statistics:** Description of the info that we are using.\n",
    "    \n",
    "- **Inferencial statistics:** Infere the data that is unknown to us, for example, height of man in population got from a sample.\n",
    "\n",
    "<img src=\"images/descriptive-statistics-and-inferential-statistics.jpg\",width=350, height=350>"
   ]
  },
  {
   "cell_type": "code",
   "execution_count": 34,
   "metadata": {},
   "outputs": [],
   "source": [
    "# Creating a Pandas DataFrame to analyze \n",
    "df = pd.DataFrame(dict(id=range(60), age = np.random.randint(18,31, size = 60)))"
   ]
  },
  {
   "cell_type": "code",
   "execution_count": 35,
   "metadata": {},
   "outputs": [
    {
     "data": {
      "text/html": [
       "<div>\n",
       "<style scoped>\n",
       "    .dataframe tbody tr th:only-of-type {\n",
       "        vertical-align: middle;\n",
       "    }\n",
       "\n",
       "    .dataframe tbody tr th {\n",
       "        vertical-align: top;\n",
       "    }\n",
       "\n",
       "    .dataframe thead th {\n",
       "        text-align: right;\n",
       "    }\n",
       "</style>\n",
       "<table border=\"1\" class=\"dataframe\">\n",
       "  <thead>\n",
       "    <tr style=\"text-align: right;\">\n",
       "      <th></th>\n",
       "      <th>age</th>\n",
       "      <th>id</th>\n",
       "    </tr>\n",
       "  </thead>\n",
       "  <tbody>\n",
       "    <tr>\n",
       "      <th>0</th>\n",
       "      <td>23</td>\n",
       "      <td>0</td>\n",
       "    </tr>\n",
       "    <tr>\n",
       "      <th>1</th>\n",
       "      <td>28</td>\n",
       "      <td>1</td>\n",
       "    </tr>\n",
       "    <tr>\n",
       "      <th>2</th>\n",
       "      <td>24</td>\n",
       "      <td>2</td>\n",
       "    </tr>\n",
       "    <tr>\n",
       "      <th>3</th>\n",
       "      <td>20</td>\n",
       "      <td>3</td>\n",
       "    </tr>\n",
       "    <tr>\n",
       "      <th>4</th>\n",
       "      <td>29</td>\n",
       "      <td>4</td>\n",
       "    </tr>\n",
       "  </tbody>\n",
       "</table>\n",
       "</div>"
      ],
      "text/plain": [
       "   age  id\n",
       "0   23   0\n",
       "1   28   1\n",
       "2   24   2\n",
       "3   20   3\n",
       "4   29   4"
      ]
     },
     "execution_count": 35,
     "metadata": {},
     "output_type": "execute_result"
    }
   ],
   "source": [
    "# Preview DataFrame \n",
    "df.head()"
   ]
  },
  {
   "cell_type": "code",
   "execution_count": 36,
   "metadata": {},
   "outputs": [
    {
     "name": "stdout",
     "output_type": "stream",
     "text": [
      "The MEAN for the age column in provided data is: 23.433333333333334\n",
      "The MEDIAN for the age column in provided data is: 23.0\n",
      "The RANGE for the age column in provided data is: 12\n",
      "The VARIANCE for the age column in provided data is: 12.07888888888889\n",
      "The STD DEV for the age column in provided data is: 3.4754695925714687\n",
      "The IQR for the age column in provided data is: 5.0\n"
     ]
    }
   ],
   "source": [
    "# Calculating indicators for provided data\n",
    "print(f'The MEAN for the age column in provided data is: {np.mean(df[\"age\"])}')\n",
    "print(f'The MEDIAN for the age column in provided data is: {np.median(df[\"age\"])}')\n",
    "# print(f'The MODE for the age column in provided data is: {mode(df[\"age\"])}')\n",
    "print(f'The RANGE for the age column in provided data is: {np.max(df[\"age\"]) - np.min(df[\"age\"]) }')\n",
    "\n",
    "\n",
    "# Q1\n",
    "    # Q1\n",
    "    # first quartile\n",
    "    # lower quartile\n",
    "    # 25th percentile\n",
    "    # splits off the lowest 25% of data from the highest 75%\n",
    "Q1 = np.percentile(df[\"age\"], 25)\n",
    "\n",
    "# Q2\n",
    "    # second quartile\n",
    "    # median\n",
    "    # 50th percentile\n",
    "    # cuts data set in half\n",
    "Q2 = np.percentile(df[\"age\"], 50)\n",
    "\n",
    "# Q3\n",
    "    # third quartile\n",
    "    # upper quartile\n",
    "    # 75th percentile\n",
    "    # splits off the highest 25% of data from the lowest 75%\n",
    "Q3 = np.percentile(df[\"age\"], 75)\n",
    "\n",
    "print(f'The VARIANCE for the age column in provided data is: {np.var(df[\"age\"])}')\n",
    "print(f'The STD DEV for the age column in provided data is: {np.std(df[\"age\"])}')\n",
    "print(f'The IQR for the age column in provided data is: {Q3-Q1}')"
   ]
  },
  {
   "cell_type": "code",
   "execution_count": 37,
   "metadata": {},
   "outputs": [
    {
     "data": {
      "image/png": "[encoded data removed]",
      "text/plain": [
       "<matplotlib.figure.Figure at 0x10d0cb358>"
      ]
     },
     "metadata": {},
     "output_type": "display_data"
    }
   ],
   "source": [
    "_= df.boxplot(column = \"age\", return_type = 'axes')"
   ]
  },
  {
   "cell_type": "markdown",
   "metadata": {},
   "source": [
    "### As a reference: \n",
    "\n",
    "<img src=\"images/boxplot-labels.png\",width=350>"
   ]
  },
  {
   "cell_type": "markdown",
   "metadata": {},
   "source": [
    "##  Skewness\n",
    "In probability theory and statistics, skewness is a measure of the asymmetry of the probability distribution of a real-valued random variable about its mean. The skewness value can be positive or negative, or undefined.\n",
    "    \n",
    "## Kurtosis\n",
    "La curtosis de una variable estadística/aleatoria es una característica de forma de su distribución de frecuencias/probabilidad.\n",
    "\n",
    "Según su concepción clásica, una curtosis grande implica una mayor concentración de valores de la variable tanto muy cerca de la media de la distribución (pico) como muy lejos de ella (colas), al tiempo que existe una relativamente menor frecuencia de valores intermedios. Esto explica una forma de la distribución de frecuencias/probabilidad con colas más gruesas, con un centro más apuntado y una menor proporción de valores intermedios entre el pico y colas.\n",
    "\n",
    "<img src=\"images/Negative_and_positive_skew_diagrams.png\", width=350>\n",
    "<img src=\"images/KBQLN.jpg\", width=350>"
   ]
  },
  {
   "cell_type": "code",
   "execution_count": 38,
   "metadata": {},
   "outputs": [
    {
     "name": "stdout",
     "output_type": "stream",
     "text": [
      "The SKEWENESS for the age column in provided data is: 0.22602010230937009\n",
      "The KURTOIS for the age column in provided data is: -0.9786304773534287\n"
     ]
    }
   ],
   "source": [
    "swekeness = df[\"age\"].skew()\n",
    "kurtosis = df[\"age\"].kurt()\n",
    "\n",
    "print(f'The SKEWENESS for the age column in provided data is: {swekeness}')\n",
    "print(f'The KURTOIS for the age column in provided data is: {kurtosis}')"
   ]
  },
  {
   "cell_type": "markdown",
   "metadata": {},
   "source": [
    "## Inferencial Statistics\n",
    "\n",
    "- Infers **properties of population**, for example, by testing hypothesis and deriving estimates.\n",
    "    \n",
    "- Infere the data that is unknown to us, for example, height of man in population got from a sample."
   ]
  },
  {
   "cell_type": "code",
   "execution_count": 39,
   "metadata": {},
   "outputs": [],
   "source": [
    "# Lets take random subsets of samples from population data\n",
    "np.random.seed(10)\n",
    "\n",
    "# Lets create an additional population with 1000 data points\n",
    "population = np.random.randint(10,20,1000)\n",
    "\n",
    "# Lets create an empty array of means\n",
    "estimates = []\n",
    "\n",
    "for i in range(200):\n",
    "    samples = np.random.choice(population, 100)\n",
    "    estimates.append(samples.mean())"
   ]
  },
  {
   "cell_type": "code",
   "execution_count": 40,
   "metadata": {},
   "outputs": [
    {
     "name": "stdout",
     "output_type": "stream",
     "text": [
      "14.565\n"
     ]
    }
   ],
   "source": [
    "# Calculating the mean\n",
    "print(np.mean(population))"
   ]
  },
  {
   "cell_type": "code",
   "execution_count": 41,
   "metadata": {},
   "outputs": [
    {
     "data": {
      "image/png": "[encoded data removed]",
      "text/plain": [
       "<matplotlib.figure.Figure at 0x10d06d5c0>"
      ]
     },
     "metadata": {},
     "output_type": "display_data"
    }
   ],
   "source": [
    "# EDA for estimates\n",
    "_= pd.DataFrame(estimates).plot(kind='density')"
   ]
  },
  {
   "cell_type": "markdown",
   "metadata": {},
   "source": [
    "## Confidence intervals:\n",
    "- Par o varios pares de números entre los cuales se estima que estará cierto valor desconocido con una determinada probabilidad de acierto. Formalmente, estos números determinan un intervalo, que se calcula a partir de datos de una muestra, y el valor desconocido es un parámetro poblacional. La probabilidad de éxito en la estimación se representa con 1 - α y se denomina nivel de confianza. En estas circunstancias, α es el llamado error aleatorio o nivel de significación, esto es, una medida de las posibilidades de fallar en la estimación mediante tal intervalo.\n",
    "   \n",
    "- It gives us an **upper and lower limit** where 95% of our data will be available.\n",
    "\n",
    "<img src=\"images/Margarinefilling.png\",width=350>"
   ]
  },
  {
   "cell_type": "markdown",
   "metadata": {},
   "source": [
    "## Margin of error:\n",
    "The margin of error is a statistic expressing the **amount of random sampling error in a survey's results.** The larger the margin of error, the less confidence one should have that the poll's reported results are close to the \"true\" figures; that is, the figures for the whole population. Margin of error is positive whenever a population is incompletely sampled and the outcome measure has positive variance (that is, it varies).\n",
    "\n",
    "<img src=\"images/Marginoferror.PNG\", width=350>"
   ]
  },
  {
   "cell_type": "code",
   "execution_count": 42,
   "metadata": {},
   "outputs": [],
   "source": [
    "# Import scipy stats in order to calculate critical z and t values \n",
    "import scipy.stats as stats\n",
    "\n",
    "# Calculating z and t critical value\n",
    "z_critical = stats.norm.ppf(q = 0.975)\n",
    "t_critical = z_critical = stats.t.ppf(q = 0.975, df = 24)"
   ]
  },
  {
   "cell_type": "code",
   "execution_count": 43,
   "metadata": {},
   "outputs": [],
   "source": [
    "# Calculating margin of errors based on critical values\n",
    "margin_of_error = z_critical * (np.std(estimates)/np.sqrt(len(estimates)))"
   ]
  },
  {
   "cell_type": "code",
   "execution_count": 44,
   "metadata": {},
   "outputs": [],
   "source": [
    "# Calculating confidence intervals\n",
    "lower_bound = np.mean(estimates) - margin_of_error\n",
    "upper_bound = np.mean(estimates) + margin_of_error"
   ]
  },
  {
   "cell_type": "code",
   "execution_count": 45,
   "metadata": {},
   "outputs": [
    {
     "name": "stdout",
     "output_type": "stream",
     "text": [
      "LOWER bound for confidence interval: 14.458326002884847\n",
      "UPPER bound for confidence interval: 14.54137399711515\n"
     ]
    }
   ],
   "source": [
    "# Preview results\n",
    "print(f'LOWER bound for confidence interval: {lower_bound}')\n",
    "print(f'UPPER bound for confidence interval: {upper_bound}')"
   ]
  },
  {
   "cell_type": "markdown",
   "metadata": {},
   "source": [
    "## Data types:\n",
    "\n",
    "<img src=\"images/data-types.svg\", width=350>"
   ]
  },
  {
   "cell_type": "markdown",
   "metadata": {},
   "source": [
    "## Continous variables:"
   ]
  },
  {
   "cell_type": "code",
   "execution_count": 46,
   "metadata": {},
   "outputs": [
    {
     "name": "stdout",
     "output_type": "stream",
     "text": [
      "True\n"
     ]
    }
   ],
   "source": [
    "# Continous variables\n",
    "mean_value = 20\n",
    "std_dev = 2\n",
    "\n",
    "# Creation of random sample for a normal distribution\n",
    "h = sorted(np.random.normal(mean_value, std_dev, 100))\n",
    "\n",
    "# Verification for mean_value and h\n",
    "verification = abs(mean_value-np.mean(h)) < 2\n",
    "print(verification)"
   ]
  },
  {
   "cell_type": "code",
   "execution_count": 47,
   "metadata": {},
   "outputs": [
    {
     "data": {
      "image/png": "[encoded data removed]",
      "text/plain": [
       "<matplotlib.figure.Figure at 0x10d06d550>"
      ]
     },
     "metadata": {},
     "output_type": "display_data"
    }
   ],
   "source": [
    "# Plotting it \n",
    "_= plt.hist(h, normed = True)\n",
    "\n",
    "# Conclusions: The data is under bins and we encounter a \"continous\" flow of data."
   ]
  },
  {
   "cell_type": "code",
   "execution_count": 48,
   "metadata": {},
   "outputs": [
    {
     "data": {
      "image/png": "[encoded data removed]",
      "text/plain": [
       "<matplotlib.figure.Figure at 0x1a17891be0>"
      ]
     },
     "metadata": {},
     "output_type": "display_data"
    }
   ],
   "source": [
    "fit = stats.norm.pdf(h, np.mean(h), np.std(h))\n",
    "_= plt.plot(h,fit,'x')\n",
    "_= plt.hist(h, normed = True)\n",
    "\n",
    "# Conclusions: Here we have the original data and also the normal distribution data as a reference, \n",
    "# the main conclusion is that the data is equally/\"normal\" distributed."
   ]
  },
  {
   "cell_type": "markdown",
   "metadata": {},
   "source": [
    "## Discrete variables:"
   ]
  },
  {
   "cell_type": "code",
   "execution_count": 49,
   "metadata": {},
   "outputs": [
    {
     "data": {
      "image/png": "[encoded data removed]",
      "text/plain": [
       "<matplotlib.figure.Figure at 0x1a178ec208>"
      ]
     },
     "metadata": {},
     "output_type": "display_data"
    }
   ],
   "source": [
    "# Discrete variables\n",
    "# These are the numeric variables that present a integer value everytime. I.e. Rolling the dice; 6 different options.\n",
    "\n",
    "# Creation of empty array and plotting it \n",
    "_= plt.hist(np.random.randint(1,6,100))"
   ]
  },
  {
   "cell_type": "markdown",
   "metadata": {},
   "source": [
    "## Categorical variables:\n",
    "\n",
    "This is the data that is commonly used to represent data characteristics, such as, race, nationality, marital status, hometown, etc."
   ]
  },
  {
   "cell_type": "code",
   "execution_count": 50,
   "metadata": {},
   "outputs": [],
   "source": [
    "# Lets create a DataFrame with juice brand and ounces \n",
    "categorical_data = pd.DataFrame(\n",
    "    {'juice_brand':['Kellogs', 'Kellogs', 'Jumex', 'Boing', 'Del Valle', 'Santa Clara', 'Kellogs', 'Jumex', 'Boing', 'Del Valle'], \\\n",
    "                                 'ounces':[4, 2, 4, 4, 8, 4, 2, 4, 4, 8]})"
   ]
  },
  {
   "cell_type": "code",
   "execution_count": 51,
   "metadata": {},
   "outputs": [
    {
     "data": {
      "text/html": [
       "<div>\n",
       "<style scoped>\n",
       "    .dataframe tbody tr th:only-of-type {\n",
       "        vertical-align: middle;\n",
       "    }\n",
       "\n",
       "    .dataframe tbody tr th {\n",
       "        vertical-align: top;\n",
       "    }\n",
       "\n",
       "    .dataframe thead th {\n",
       "        text-align: right;\n",
       "    }\n",
       "</style>\n",
       "<table border=\"1\" class=\"dataframe\">\n",
       "  <thead>\n",
       "    <tr style=\"text-align: right;\">\n",
       "      <th></th>\n",
       "      <th>juice_brand</th>\n",
       "      <th>ounces</th>\n",
       "    </tr>\n",
       "  </thead>\n",
       "  <tbody>\n",
       "    <tr>\n",
       "      <th>0</th>\n",
       "      <td>Kellogs</td>\n",
       "      <td>4</td>\n",
       "    </tr>\n",
       "    <tr>\n",
       "      <th>1</th>\n",
       "      <td>Kellogs</td>\n",
       "      <td>2</td>\n",
       "    </tr>\n",
       "    <tr>\n",
       "      <th>2</th>\n",
       "      <td>Jumex</td>\n",
       "      <td>4</td>\n",
       "    </tr>\n",
       "    <tr>\n",
       "      <th>3</th>\n",
       "      <td>Boing</td>\n",
       "      <td>4</td>\n",
       "    </tr>\n",
       "    <tr>\n",
       "      <th>4</th>\n",
       "      <td>Del Valle</td>\n",
       "      <td>8</td>\n",
       "    </tr>\n",
       "    <tr>\n",
       "      <th>5</th>\n",
       "      <td>Santa Clara</td>\n",
       "      <td>4</td>\n",
       "    </tr>\n",
       "    <tr>\n",
       "      <th>6</th>\n",
       "      <td>Kellogs</td>\n",
       "      <td>2</td>\n",
       "    </tr>\n",
       "    <tr>\n",
       "      <th>7</th>\n",
       "      <td>Jumex</td>\n",
       "      <td>4</td>\n",
       "    </tr>\n",
       "    <tr>\n",
       "      <th>8</th>\n",
       "      <td>Boing</td>\n",
       "      <td>4</td>\n",
       "    </tr>\n",
       "    <tr>\n",
       "      <th>9</th>\n",
       "      <td>Del Valle</td>\n",
       "      <td>8</td>\n",
       "    </tr>\n",
       "  </tbody>\n",
       "</table>\n",
       "</div>"
      ],
      "text/plain": [
       "   juice_brand  ounces\n",
       "0      Kellogs       4\n",
       "1      Kellogs       2\n",
       "2        Jumex       4\n",
       "3        Boing       4\n",
       "4    Del Valle       8\n",
       "5  Santa Clara       4\n",
       "6      Kellogs       2\n",
       "7        Jumex       4\n",
       "8        Boing       4\n",
       "9    Del Valle       8"
      ]
     },
     "execution_count": 51,
     "metadata": {},
     "output_type": "execute_result"
    }
   ],
   "source": [
    "categorical_data.head(10)"
   ]
  },
  {
   "cell_type": "code",
   "execution_count": 52,
   "metadata": {},
   "outputs": [
    {
     "data": {
      "image/png": "[encoded data removed]",
      "text/plain": [
       "<matplotlib.figure.Figure at 0x1a17a71860>"
      ]
     },
     "metadata": {},
     "output_type": "display_data"
    }
   ],
   "source": [
    "# Frequency of each type of the juices detected\n",
    "_= plt.hist(categorical_data.juice_brand)"
   ]
  },
  {
   "cell_type": "code",
   "execution_count": 53,
   "metadata": {},
   "outputs": [
    {
     "data": {
      "text/plain": [
       "10"
      ]
     },
     "execution_count": 53,
     "metadata": {},
     "output_type": "execute_result"
    }
   ],
   "source": [
    "len(categorical_data)"
   ]
  },
  {
   "cell_type": "code",
   "execution_count": 54,
   "metadata": {},
   "outputs": [],
   "source": [
    "# We can add some information about rating to the DataFrame \n",
    "categorical_data['rating'] = np.random.randint(0,10,10)"
   ]
  },
  {
   "cell_type": "code",
   "execution_count": 55,
   "metadata": {},
   "outputs": [
    {
     "data": {
      "text/html": [
       "<div>\n",
       "<style scoped>\n",
       "    .dataframe tbody tr th:only-of-type {\n",
       "        vertical-align: middle;\n",
       "    }\n",
       "\n",
       "    .dataframe tbody tr th {\n",
       "        vertical-align: top;\n",
       "    }\n",
       "\n",
       "    .dataframe thead th {\n",
       "        text-align: right;\n",
       "    }\n",
       "</style>\n",
       "<table border=\"1\" class=\"dataframe\">\n",
       "  <thead>\n",
       "    <tr style=\"text-align: right;\">\n",
       "      <th></th>\n",
       "      <th>juice_brand</th>\n",
       "      <th>ounces</th>\n",
       "      <th>rating</th>\n",
       "    </tr>\n",
       "  </thead>\n",
       "  <tbody>\n",
       "    <tr>\n",
       "      <th>0</th>\n",
       "      <td>Kellogs</td>\n",
       "      <td>4</td>\n",
       "      <td>2</td>\n",
       "    </tr>\n",
       "    <tr>\n",
       "      <th>1</th>\n",
       "      <td>Kellogs</td>\n",
       "      <td>2</td>\n",
       "      <td>9</td>\n",
       "    </tr>\n",
       "    <tr>\n",
       "      <th>2</th>\n",
       "      <td>Jumex</td>\n",
       "      <td>4</td>\n",
       "      <td>2</td>\n",
       "    </tr>\n",
       "    <tr>\n",
       "      <th>3</th>\n",
       "      <td>Boing</td>\n",
       "      <td>4</td>\n",
       "      <td>0</td>\n",
       "    </tr>\n",
       "    <tr>\n",
       "      <th>4</th>\n",
       "      <td>Del Valle</td>\n",
       "      <td>8</td>\n",
       "      <td>1</td>\n",
       "    </tr>\n",
       "    <tr>\n",
       "      <th>5</th>\n",
       "      <td>Santa Clara</td>\n",
       "      <td>4</td>\n",
       "      <td>8</td>\n",
       "    </tr>\n",
       "    <tr>\n",
       "      <th>6</th>\n",
       "      <td>Kellogs</td>\n",
       "      <td>2</td>\n",
       "      <td>4</td>\n",
       "    </tr>\n",
       "    <tr>\n",
       "      <th>7</th>\n",
       "      <td>Jumex</td>\n",
       "      <td>4</td>\n",
       "      <td>2</td>\n",
       "    </tr>\n",
       "    <tr>\n",
       "      <th>8</th>\n",
       "      <td>Boing</td>\n",
       "      <td>4</td>\n",
       "      <td>5</td>\n",
       "    </tr>\n",
       "    <tr>\n",
       "      <th>9</th>\n",
       "      <td>Del Valle</td>\n",
       "      <td>8</td>\n",
       "      <td>7</td>\n",
       "    </tr>\n",
       "  </tbody>\n",
       "</table>\n",
       "</div>"
      ],
      "text/plain": [
       "   juice_brand  ounces  rating\n",
       "0      Kellogs       4       2\n",
       "1      Kellogs       2       9\n",
       "2        Jumex       4       2\n",
       "3        Boing       4       0\n",
       "4    Del Valle       8       1\n",
       "5  Santa Clara       4       8\n",
       "6      Kellogs       2       4\n",
       "7        Jumex       4       2\n",
       "8        Boing       4       5\n",
       "9    Del Valle       8       7"
      ]
     },
     "execution_count": 55,
     "metadata": {},
     "output_type": "execute_result"
    }
   ],
   "source": [
    "categorical_data.head(10)"
   ]
  },
  {
   "cell_type": "code",
   "execution_count": 56,
   "metadata": {},
   "outputs": [
    {
     "data": {
      "text/plain": [
       "juice_brand\n",
       "Boing           8\n",
       "Del Valle      16\n",
       "Jumex           8\n",
       "Kellogs         8\n",
       "Santa Clara     4\n",
       "Name: ounces, dtype: int64"
      ]
     },
     "execution_count": 56,
     "metadata": {},
     "output_type": "execute_result"
    }
   ],
   "source": [
    "# We can regroup data in order to have a better understanding and visualize it\n",
    "group_by_juice_df = categorical_data.groupby(['juice_brand'])['ounces'].sum()\n",
    "group_by_juice_df.head()"
   ]
  },
  {
   "cell_type": "code",
   "execution_count": 57,
   "metadata": {},
   "outputs": [
    {
     "data": {
      "image/png": "[encoded data removed]",
      "text/plain": [
       "<matplotlib.figure.Figure at 0x1a17bf8470>"
      ]
     },
     "metadata": {},
     "output_type": "display_data"
    }
   ],
   "source": [
    "# Plot the data for juices type \n",
    "labels = ('Boing', 'Del Valle', 'Jumex', 'Kellogs', 'Santa Clara')\n",
    "explode = (0.3, 0.1, 0.1, 0.1, 0) \n",
    "_= plt.pie(group_by_juice_df, explode=explode, labels=labels, autopct='%1.1f%%', shadow=True, startangle=90)"
   ]
  },
  {
   "cell_type": "markdown",
   "metadata": {},
   "source": [
    "# Nominal variables:\n",
    "\n",
    "Another type of categorical data that is commonly analyzed in count-form. "
   ]
  },
  {
   "cell_type": "code",
   "execution_count": 58,
   "metadata": {},
   "outputs": [
    {
     "data": {
      "image/png": "[encoded data removed]",
      "text/plain": [
       "<matplotlib.figure.Figure at 0x1a1787ff98>"
      ]
     },
     "metadata": {},
     "output_type": "display_data"
    }
   ],
   "source": [
    "_= categorical_data.plot.bar(stacked = True)"
   ]
  },
  {
   "cell_type": "markdown",
   "metadata": {},
   "source": [
    "# seaborn: statistical data visualization \n",
    "\n",
    "link: https://seaborn.pydata.org/\n",
    "\n",
    "Seaborn is a Python data visualization library based on matplotlib. It provides a high-level interface for drawing attractive and informative statistical graphics."
   ]
  },
  {
   "cell_type": "code",
   "execution_count": null,
   "metadata": {},
   "outputs": [],
   "source": []
  }
 ],
 "metadata": {
  "kernelspec": {
   "display_name": "Python 3",
   "language": "python",
   "name": "python3"
  },
  "language_info": {
   "codemirror_mode": {
    "name": "ipython",
    "version": 3
   },
   "file_extension": ".py",
   "mimetype": "text/x-python",
   "name": "python",
   "nbconvert_exporter": "python",
   "pygments_lexer": "ipython3",
   "version": "3.6.8"
  }
 },
 "nbformat": 4,
 "nbformat_minor": 2
}
